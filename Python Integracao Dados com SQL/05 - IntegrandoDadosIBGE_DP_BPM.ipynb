{
 "cells": [
  {
   "cell_type": "markdown",
   "metadata": {},
   "source": [
    "## PROJETO PÁSCOA COM DADOS\n",
    "#### Apoiei o Projeto Dado Humanizado do Prof. Cláudio Bonel. Foi uma iniciativa chamada \"Páscoa com Dados\", que entregou ovos de páscoa para 100 crianças do Complexo do Alemão/RJ em 2022."
   ]
  },
  {
   "cell_type": "code",
   "execution_count": 1,
   "metadata": {},
   "outputs": [],
   "source": [
    "# Importando as bibliotecas necessarias\n",
    "import pandas as pd\n",
    "from datetime import datetime\n",
    "from pathlib import Path\n",
    "import sqlite3 as sql"
   ]
  },
  {
   "cell_type": "code",
   "execution_count": 2,
   "metadata": {},
   "outputs": [
    {
     "data": {
      "text/plain": [
       "'14/04/2022 19:27'"
      ]
     },
     "execution_count": 2,
     "metadata": {},
     "output_type": "execute_result"
    }
   ],
   "source": [
    "dtCarga = datetime.today().strftime('%d/%m/%Y %H:%M')\n",
    "dtCarga"
   ]
  },
  {
   "cell_type": "markdown",
   "metadata": {},
   "source": [
    "### COLETANDO DADOS DOS BATALHÕES DE POLÍCIA MILITAR (BPM)"
   ]
  },
  {
   "cell_type": "code",
   "execution_count": 3,
   "metadata": {},
   "outputs": [],
   "source": [
    "# Definindo o endereço físico do arquivo CSV\n",
    "LocalArquivo = \"E:\\\\Projetos\\\\Python\\\\08 - Prof Bonel\\\\Python Integracao Dados com SQL\\\\\"\n",
    "\n",
    "# Criar Data Frame com os dados dos BPMs\n",
    "tbLogBPM = pd.DataFrame(pd.read_excel(LocalArquivo + \"BPM.xlsx\"))\n",
    "\n",
    "# Criando coluna com a data da carga\n",
    "tbLogBPM['dtCarga'] = dtCarga"
   ]
  },
  {
   "cell_type": "code",
   "execution_count": 4,
   "metadata": {},
   "outputs": [
    {
     "data": {
      "text/html": [
       "<div>\n",
       "<style scoped>\n",
       "    .dataframe tbody tr th:only-of-type {\n",
       "        vertical-align: middle;\n",
       "    }\n",
       "\n",
       "    .dataframe tbody tr th {\n",
       "        vertical-align: top;\n",
       "    }\n",
       "\n",
       "    .dataframe thead th {\n",
       "        text-align: right;\n",
       "    }\n",
       "</style>\n",
       "<table border=\"1\" class=\"dataframe\">\n",
       "  <thead>\n",
       "    <tr style=\"text-align: right;\">\n",
       "      <th></th>\n",
       "      <th>COD_BPM</th>\n",
       "      <th>NM_BPM</th>\n",
       "      <th>Endereco</th>\n",
       "      <th>dtCarga</th>\n",
       "    </tr>\n",
       "  </thead>\n",
       "  <tbody>\n",
       "    <tr>\n",
       "      <th>0</th>\n",
       "      <td>2</td>\n",
       "      <td>2º BPM</td>\n",
       "      <td>R. Álvaro Ramos, 155</td>\n",
       "      <td>14/04/2022 19:27</td>\n",
       "    </tr>\n",
       "    <tr>\n",
       "      <th>1</th>\n",
       "      <td>3</td>\n",
       "      <td>3º BPM</td>\n",
       "      <td>R. Lucídio Lago, 181</td>\n",
       "      <td>14/04/2022 19:27</td>\n",
       "    </tr>\n",
       "    <tr>\n",
       "      <th>2</th>\n",
       "      <td>4</td>\n",
       "      <td>4º BPM</td>\n",
       "      <td>R. Francisco Eugênio, 228</td>\n",
       "      <td>14/04/2022 19:27</td>\n",
       "    </tr>\n",
       "    <tr>\n",
       "      <th>3</th>\n",
       "      <td>5</td>\n",
       "      <td>5º BPM</td>\n",
       "      <td>Praça Cel. Assunção, S/N</td>\n",
       "      <td>14/04/2022 19:27</td>\n",
       "    </tr>\n",
       "    <tr>\n",
       "      <th>4</th>\n",
       "      <td>6</td>\n",
       "      <td>6º BPM</td>\n",
       "      <td>R. Barão de Mesquita, 625</td>\n",
       "      <td>14/04/2022 19:27</td>\n",
       "    </tr>\n",
       "    <tr>\n",
       "      <th>5</th>\n",
       "      <td>7</td>\n",
       "      <td>7º BPM</td>\n",
       "      <td>R. Dr. Alfredo Backer, 367</td>\n",
       "      <td>14/04/2022 19:27</td>\n",
       "    </tr>\n",
       "    <tr>\n",
       "      <th>6</th>\n",
       "      <td>8</td>\n",
       "      <td>8º BPM</td>\n",
       "      <td>Rua Tenente Coronel Cardoso, s/n</td>\n",
       "      <td>14/04/2022 19:27</td>\n",
       "    </tr>\n",
       "    <tr>\n",
       "      <th>7</th>\n",
       "      <td>9</td>\n",
       "      <td>9º BPM</td>\n",
       "      <td>R. Tacaratu, 94</td>\n",
       "      <td>14/04/2022 19:27</td>\n",
       "    </tr>\n",
       "    <tr>\n",
       "      <th>8</th>\n",
       "      <td>10</td>\n",
       "      <td>10º BPM</td>\n",
       "      <td>Rod. Lúcio Meira, 47000</td>\n",
       "      <td>14/04/2022 19:27</td>\n",
       "    </tr>\n",
       "    <tr>\n",
       "      <th>9</th>\n",
       "      <td>11</td>\n",
       "      <td>11º BPM</td>\n",
       "      <td>R. Voluntários da Pátria, 474</td>\n",
       "      <td>14/04/2022 19:27</td>\n",
       "    </tr>\n",
       "  </tbody>\n",
       "</table>\n",
       "</div>"
      ],
      "text/plain": [
       "   COD_BPM   NM_BPM                          Endereco           dtCarga\n",
       "0        2   2º BPM              R. Álvaro Ramos, 155  14/04/2022 19:27\n",
       "1        3   3º BPM              R. Lucídio Lago, 181  14/04/2022 19:27\n",
       "2        4   4º BPM         R. Francisco Eugênio, 228  14/04/2022 19:27\n",
       "3        5   5º BPM          Praça Cel. Assunção, S/N  14/04/2022 19:27\n",
       "4        6   6º BPM         R. Barão de Mesquita, 625  14/04/2022 19:27\n",
       "5        7   7º BPM        R. Dr. Alfredo Backer, 367  14/04/2022 19:27\n",
       "6        8   8º BPM  Rua Tenente Coronel Cardoso, s/n  14/04/2022 19:27\n",
       "7        9   9º BPM                   R. Tacaratu, 94  14/04/2022 19:27\n",
       "8       10  10º BPM           Rod. Lúcio Meira, 47000  14/04/2022 19:27\n",
       "9       11  11º BPM     R. Voluntários da Pátria, 474  14/04/2022 19:27"
      ]
     },
     "execution_count": 4,
     "metadata": {},
     "output_type": "execute_result"
    }
   ],
   "source": [
    "tbLogBPM.head(10)"
   ]
  },
  {
   "cell_type": "code",
   "execution_count": 5,
   "metadata": {},
   "outputs": [
    {
     "data": {
      "text/plain": [
       "(41, 4)"
      ]
     },
     "execution_count": 5,
     "metadata": {},
     "output_type": "execute_result"
    }
   ],
   "source": [
    "# dimensao\n",
    "tbLogBPM.shape"
   ]
  },
  {
   "cell_type": "code",
   "execution_count": 6,
   "metadata": {},
   "outputs": [
    {
     "name": "stdout",
     "output_type": "stream",
     "text": [
      "<class 'pandas.core.frame.DataFrame'>\n",
      "RangeIndex: 41 entries, 0 to 40\n",
      "Data columns (total 4 columns):\n",
      " #   Column    Non-Null Count  Dtype \n",
      "---  ------    --------------  ----- \n",
      " 0   COD_BPM   41 non-null     int64 \n",
      " 1   NM_BPM    41 non-null     object\n",
      " 2   Endereco  41 non-null     object\n",
      " 3   dtCarga   41 non-null     object\n",
      "dtypes: int64(1), object(3)\n",
      "memory usage: 1.4+ KB\n"
     ]
    }
   ],
   "source": [
    "# Informações\n",
    "tbLogBPM.info()"
   ]
  },
  {
   "cell_type": "code",
   "execution_count": 7,
   "metadata": {},
   "outputs": [
    {
     "data": {
      "text/plain": [
       "COD_BPM     0\n",
       "NM_BPM      0\n",
       "Endereco    0\n",
       "dtCarga     0\n",
       "dtype: int64"
      ]
     },
     "execution_count": 7,
     "metadata": {},
     "output_type": "execute_result"
    }
   ],
   "source": [
    "# Verificando a existenecia de nulos\n",
    "tbLogBPM.isnull().sum()"
   ]
  },
  {
   "cell_type": "markdown",
   "metadata": {},
   "source": [
    "### CONECTANDO NO DW E INFORMANDO AO PYTHON QUE USAREI LINGUAGEM SQL"
   ]
  },
  {
   "cell_type": "code",
   "execution_count": 25,
   "metadata": {},
   "outputs": [],
   "source": [
    "# Manipulando o sistema de arquivos no Windows\n",
    "endereco = Path('E:\\\\Projetos\\\\Python\\\\08 - Prof Bonel\\\\Python Integracao Dados com SQL\\\\')\n",
    "\n",
    "BDODS = endereco / \"pascoaODS.db\"\n",
    "BDDW = endereco / \"pascoaDW.db\"\n",
    "\n",
    "# Conectando no BDODS\n",
    "conexaoODS = sql.connect(BDODS)\n",
    "\n",
    "# Definição de manipulação de dados em SQL. Métdo cursor permite manipular dados no SQL\n",
    "SQL_ODS = conexaoODS.cursor()"
   ]
  },
  {
   "cell_type": "markdown",
   "metadata": {},
   "source": [
    "### CONSTRUINDO A TABELA DE LOG DE REGISTROS DO BPM (tbLogBPM), no ODS"
   ]
  },
  {
   "cell_type": "code",
   "execution_count": 9,
   "metadata": {},
   "outputs": [
    {
     "data": {
      "text/plain": [
       "<sqlite3.Cursor at 0x206b5d91730>"
      ]
     },
     "execution_count": 9,
     "metadata": {},
     "output_type": "execute_result"
    }
   ],
   "source": [
    "# Definir a query de criação da tabela\n",
    "qry_tbLogBPM = '''\n",
    "    \n",
    "    CREATE TABLE IF NOT EXISTS tbLogBPM (\n",
    "    \n",
    "    codBPM INTEGER,\n",
    "    nmBPM VARCHAR (7),\n",
    "    enderecoBPM VARCHAR (200),\n",
    "    dtCarga DATETIME\n",
    "\n",
    "    )\n",
    "'''\n",
    "\n",
    "# executar a criação da tbLogBPM\n",
    "SQL_ODS.execute(qry_tbLogBPM)\n",
    "\n",
    "# definição da query de criação de index\n",
    "qry_idx_tbLogBPM_codBPM = \"CREATE INDEX IF NOT EXISTS idx_tbLogBPM_codBPM ON tbLogBPM (codBPM)\"\n",
    "\n",
    "# executar a criação do index\n",
    "SQL_ODS.execute(qry_idx_tbLogBPM_codBPM)"
   ]
  },
  {
   "cell_type": "markdown",
   "metadata": {},
   "source": [
    "### INSERINDO DADOS DE BPM NA TABELA tbLogBPM"
   ]
  },
  {
   "cell_type": "code",
   "execution_count": 11,
   "metadata": {},
   "outputs": [
    {
     "name": "stdout",
     "output_type": "stream",
     "text": [
      "Iniciando a inserção de dados na tabela tbLogBPM.\n",
      "-------------------------------------------------\n",
      "Carga finalizada! 41 registros inseridos na tbLogBPM!\n"
     ]
    }
   ],
   "source": [
    "# Inserindo registros na tabela tbLogBPM\n",
    "print(\"Iniciando a inserção de dados na tabela tbLogBPM.\")\n",
    "print(\"-------------------------------------------------\")\n",
    "\n",
    "SQL_ODS.executemany('''INSERT INTO tbLogBPM (codBPM,nmBPM,enderecoBPM,dtCarga) VALUES (?,?,?,?)''',tbLogBPM.values.tolist())\n",
    "\n",
    "# confirmar a transação\n",
    "conexaoODS.commit()\n",
    "\n",
    "# Exibir uma mensagem de conclusão de carga\n",
    "print(\"Carga finalizada!\",len(tbLogBPM), \"registros inseridos na tbLogBPM!\")"
   ]
  },
  {
   "cell_type": "markdown",
   "metadata": {},
   "source": [
    "### COLETANDO DADOS DA ÁREA DOS BATALHÕES DE POLÍCIA MILITAR (BPM)"
   ]
  },
  {
   "cell_type": "code",
   "execution_count": 12,
   "metadata": {},
   "outputs": [],
   "source": [
    " #Criar DataFrame com os dados dos BPMs\n",
    "tbLogAreaBPM = pd.DataFrame(pd.read_csv(LocalArquivo + \"areaBPMv1.csv\"))\n",
    "\n",
    "#Criando coluna com a data da carga\n",
    "tbLogAreaBPM['dtCarga'] = dtCarga"
   ]
  },
  {
   "cell_type": "code",
   "execution_count": 13,
   "metadata": {},
   "outputs": [
    {
     "data": {
      "text/html": [
       "<div>\n",
       "<style scoped>\n",
       "    .dataframe tbody tr th:only-of-type {\n",
       "        vertical-align: middle;\n",
       "    }\n",
       "\n",
       "    .dataframe tbody tr th {\n",
       "        vertical-align: top;\n",
       "    }\n",
       "\n",
       "    .dataframe thead th {\n",
       "        text-align: right;\n",
       "    }\n",
       "</style>\n",
       "<table border=\"1\" class=\"dataframe\">\n",
       "  <thead>\n",
       "    <tr style=\"text-align: right;\">\n",
       "      <th></th>\n",
       "      <th>aisp</th>\n",
       "      <th>area_aisp_km2</th>\n",
       "      <th>dtCarga</th>\n",
       "    </tr>\n",
       "  </thead>\n",
       "  <tbody>\n",
       "    <tr>\n",
       "      <th>0</th>\n",
       "      <td>5</td>\n",
       "      <td>15.4</td>\n",
       "      <td>14/04/2022 19:27</td>\n",
       "    </tr>\n",
       "    <tr>\n",
       "      <th>1</th>\n",
       "      <td>4</td>\n",
       "      <td>17.1</td>\n",
       "      <td>14/04/2022 19:27</td>\n",
       "    </tr>\n",
       "    <tr>\n",
       "      <th>2</th>\n",
       "      <td>2</td>\n",
       "      <td>15.0</td>\n",
       "      <td>14/04/2022 19:27</td>\n",
       "    </tr>\n",
       "    <tr>\n",
       "      <th>3</th>\n",
       "      <td>23</td>\n",
       "      <td>25.2</td>\n",
       "      <td>14/04/2022 19:27</td>\n",
       "    </tr>\n",
       "    <tr>\n",
       "      <th>4</th>\n",
       "      <td>19</td>\n",
       "      <td>5.1</td>\n",
       "      <td>14/04/2022 19:27</td>\n",
       "    </tr>\n",
       "  </tbody>\n",
       "</table>\n",
       "</div>"
      ],
      "text/plain": [
       "   aisp  area_aisp_km2           dtCarga\n",
       "0     5           15.4  14/04/2022 19:27\n",
       "1     4           17.1  14/04/2022 19:27\n",
       "2     2           15.0  14/04/2022 19:27\n",
       "3    23           25.2  14/04/2022 19:27\n",
       "4    19            5.1  14/04/2022 19:27"
      ]
     },
     "execution_count": 13,
     "metadata": {},
     "output_type": "execute_result"
    }
   ],
   "source": [
    "tbLogAreaBPM.head()"
   ]
  },
  {
   "cell_type": "code",
   "execution_count": 14,
   "metadata": {},
   "outputs": [
    {
     "data": {
      "text/plain": [
       "(39, 3)"
      ]
     },
     "execution_count": 14,
     "metadata": {},
     "output_type": "execute_result"
    }
   ],
   "source": [
    "# dimensão\n",
    "tbLogAreaBPM.shape"
   ]
  },
  {
   "cell_type": "code",
   "execution_count": 15,
   "metadata": {},
   "outputs": [
    {
     "name": "stdout",
     "output_type": "stream",
     "text": [
      "<class 'pandas.core.frame.DataFrame'>\n",
      "RangeIndex: 39 entries, 0 to 38\n",
      "Data columns (total 3 columns):\n",
      " #   Column         Non-Null Count  Dtype  \n",
      "---  ------         --------------  -----  \n",
      " 0   aisp           39 non-null     int64  \n",
      " 1   area_aisp_km2  39 non-null     float64\n",
      " 2   dtCarga        39 non-null     object \n",
      "dtypes: float64(1), int64(1), object(1)\n",
      "memory usage: 1.0+ KB\n"
     ]
    }
   ],
   "source": [
    "# Informações\n",
    "tbLogAreaBPM.info()"
   ]
  },
  {
   "cell_type": "code",
   "execution_count": 16,
   "metadata": {},
   "outputs": [
    {
     "data": {
      "text/plain": [
       "aisp             0\n",
       "area_aisp_km2    0\n",
       "dtCarga          0\n",
       "dtype: int64"
      ]
     },
     "execution_count": 16,
     "metadata": {},
     "output_type": "execute_result"
    }
   ],
   "source": [
    "# Verificando existencia de nulos\n",
    "tbLogAreaBPM.isnull().sum()"
   ]
  },
  {
   "cell_type": "markdown",
   "metadata": {},
   "source": [
    "### CONSTRUINDO A TABELA DE LOG DE REGISTROS DA ÁREA DOS BPMs (tbLogAreaBPM), no ODS"
   ]
  },
  {
   "cell_type": "code",
   "execution_count": 17,
   "metadata": {},
   "outputs": [
    {
     "data": {
      "text/plain": [
       "<sqlite3.Cursor at 0x206b5d91730>"
      ]
     },
     "execution_count": 17,
     "metadata": {},
     "output_type": "execute_result"
    }
   ],
   "source": [
    "# Definir a query de criação da tabela\n",
    "qry_tbLogAreaBPM = '''\n",
    "    \n",
    "    CREATE TABLE IF NOT EXISTS tbLogAreaBPM (\n",
    "    \n",
    "    codBPM INTEGER,\n",
    "    areaBPM REAL (5,2),\n",
    "    dtCarga DATETIME\n",
    "\n",
    "    )\n",
    "'''\n",
    "\n",
    "# executar a criação da tbLogAreaBPM\n",
    "SQL_ODS.execute(qry_tbLogAreaBPM)\n",
    "\n",
    "# definição da query de criação de index\n",
    "qry_idx_tbLogAreaBPM_codBPM = \"CREATE INDEX IF NOT EXISTS idx_tbLogAreaBPM_codBPM ON tbLogAreaBPM (codBPM)\"\n",
    "\n",
    "#executar a criação do index\n",
    "SQL_ODS.execute(qry_idx_tbLogAreaBPM_codBPM)"
   ]
  },
  {
   "cell_type": "markdown",
   "metadata": {},
   "source": [
    "### INSERINDO DADOS DA ÁREA DOS BPMs NA TABELA tbLogAreaBPM"
   ]
  },
  {
   "cell_type": "code",
   "execution_count": 18,
   "metadata": {},
   "outputs": [
    {
     "name": "stdout",
     "output_type": "stream",
     "text": [
      "Iniciando a inserção de dados na tabela tbLogAreaBPM.\n",
      "-------------------------------------------------\n",
      "Carga finalizada! 39 registros inseridos na tbLogAreaBPM!\n"
     ]
    }
   ],
   "source": [
    "# Inserindo registros na tabela tbLogAreaBPM\n",
    "print(\"Iniciando a inserção de dados na tabela tbLogAreaBPM.\")\n",
    "print(\"-------------------------------------------------\")\n",
    "\n",
    "SQL_ODS.executemany('''INSERT INTO tbLogAreaBPM (codBPM,areaBPM,dtCarga) VALUES (?,?,?)''',tbLogAreaBPM.values.tolist())\n",
    "\n",
    "# confirmar a transação\n",
    "conexaoODS.commit()\n",
    "\n",
    "# Exibir uma mensagem de conclusão de carga\n",
    "print(\"Carga finalizada!\",len(tbLogAreaBPM), \"registros inseridos na tbLogAreaBPM!\")"
   ]
  },
  {
   "cell_type": "markdown",
   "metadata": {},
   "source": [
    "### CRIANDO O DATAFRAME COM O SELECT DE CRIAÇÃO DA DIMENSÃO DP (dBPM), NO DW"
   ]
  },
  {
   "cell_type": "code",
   "execution_count": 26,
   "metadata": {},
   "outputs": [],
   "source": [
    "# Definir a query de criação da dimensão dBPM\n",
    "\n",
    "qry_dBPM = '''\n",
    "    SELECT\n",
    "        codBPM,\n",
    "        nmBPM,\n",
    "        enderecoBPM,\n",
    "        areaBPM\n",
    "    FROM \n",
    "    (\n",
    "        SELECT \n",
    "            a.codBPM,\n",
    "            a.nmBPM,\n",
    "            a.enderecoBPM,\n",
    "            b.areaBPM,\n",
    "            max(a.dtCarga)\n",
    "        FROM tbLogBPM a\n",
    "        JOIN tbLogAreaBPM b\n",
    "        ON a.codBPM = b.codBPM\n",
    "        WHERE a.dtCarga = (\n",
    "                            SELECT MAX(x.dtCarga)\n",
    "                            FROM tbLogBPM x\n",
    "                       )\n",
    "        GROUP BY\n",
    "            a.codBPM,\n",
    "            a.nmBPM,\n",
    "            a.enderecoBPM,\n",
    "            b.areaBPM\n",
    "    ) a\n",
    "'''\n",
    "\n",
    "dBPM = pd.read_sql(qry_dBPM,conexaoODS)"
   ]
  },
  {
   "cell_type": "markdown",
   "metadata": {},
   "source": [
    "### FECHANDO A CONEXÃO COM O ODS"
   ]
  },
  {
   "cell_type": "code",
   "execution_count": 27,
   "metadata": {},
   "outputs": [],
   "source": [
    "# Confirmar a transação\n",
    "conexaoODS.commit()\n",
    "\n",
    "# Fechar a conexão com o pascoaODS\n",
    "conexaoODS.close()"
   ]
  },
  {
   "cell_type": "markdown",
   "metadata": {},
   "source": [
    "### CONECTANDO NO DW E INFORMANDO AO PYTHON QUE USAREI LINGUAGEM SQL"
   ]
  },
  {
   "cell_type": "code",
   "execution_count": 21,
   "metadata": {},
   "outputs": [],
   "source": [
    "# Conectar no BDODS\n",
    "conexaoDW = sql.connect(BDDW)\n",
    "\n",
    "# Definição de manipulação de dados em SQL\n",
    "SQL_DW = conexaoDW.cursor()"
   ]
  },
  {
   "cell_type": "markdown",
   "metadata": {},
   "source": [
    "### CONSTRUINDO A TABELA DE DIMENSÃO BPM (dBPM), no DW"
   ]
  },
  {
   "cell_type": "code",
   "execution_count": 22,
   "metadata": {},
   "outputs": [
    {
     "data": {
      "text/plain": [
       "<sqlite3.Cursor at 0x206b5e0b1f0>"
      ]
     },
     "execution_count": 22,
     "metadata": {},
     "output_type": "execute_result"
    }
   ],
   "source": [
    "#Definir a query de criação da tabela\n",
    "qry_dBPM = '''\n",
    "    \n",
    "    CREATE TABLE IF NOT EXISTS dBPM (\n",
    "    \n",
    "    idBPM INTEGER PRIMARY KEY AUTOINCREMENT,\n",
    "    codBPM INTEGER,\n",
    "    nmBPM VARCHAR (7),\n",
    "    enderecoBPM VARCHAR (200),\n",
    "    areaBPM REAL (5,2)\n",
    "\n",
    "    )\n",
    "'''\n",
    "\n",
    "#bexecutar a criação da tbLogBPM\n",
    "SQL_DW.execute(qry_dBPM)\n",
    "\n",
    "#bexecutar a criação do index idBPM\n",
    "SQL_DW.execute(\"CREATE INDEX IF NOT EXISTS idx_dBPM_idBPM ON dBPM (idBPM)\")\n",
    "\n",
    "#bexecutar a criação do index codBPM\n",
    "SQL_DW.execute(\"CREATE INDEX IF NOT EXISTS idx_dBPM_codBPM ON dBPM (codBPM)\")"
   ]
  },
  {
   "cell_type": "markdown",
   "metadata": {},
   "source": [
    "### DELETANDO DADOS ANTIGOS E REINICIANDO AO AUTOINCREMENTAL DA CHAVE, DA TABELA dBPM"
   ]
  },
  {
   "cell_type": "code",
   "execution_count": 23,
   "metadata": {},
   "outputs": [],
   "source": [
    "# Deletar os dados atuais\n",
    "SQL_DW.execute(\"DELETE FROM dBPM\")\n",
    "\n",
    "# Reiniciando o autoincramental da chave\n",
    "SQL_DW.execute(\"UPDATE sqlite_sequence SET seq=0 WHERE name='dBPM'\")\n",
    "\n",
    "# Confirmar a transação\n",
    "conexaoDW.commit()"
   ]
  },
  {
   "cell_type": "markdown",
   "metadata": {},
   "source": [
    "### INSERINDO DADOS NA DIMENSÃO BPM (dBPM), NO DW"
   ]
  },
  {
   "cell_type": "code",
   "execution_count": 28,
   "metadata": {},
   "outputs": [
    {
     "name": "stdout",
     "output_type": "stream",
     "text": [
      "Iniciando a inserção de dados na tabela dBPM.\n",
      "-------------------------------------------------\n",
      "Carga finalizada! 39 registros inseridos na tbLogDP!\n"
     ]
    }
   ],
   "source": [
    "# Inserindo registros na tabela dBPM\n",
    "print(\"Iniciando a inserção de dados na tabela dBPM.\")\n",
    "print(\"-------------------------------------------------\")\n",
    "\n",
    "SQL_DW.executemany('''INSERT INTO dBPM (codBPM,nmBPM,enderecoBPM,areaBPM) VALUES (?,?,?,?)''',dBPM.values.tolist())\n",
    "\n",
    "# confirmar a transação\n",
    "conexaoDW.commit()\n",
    "\n",
    "# Exibir uma mensagem de conclusão de carga\n",
    "print(\"Carga finalizada!\",len(dBPM), \"registros inseridos na tbLogDP!\")"
   ]
  },
  {
   "cell_type": "markdown",
   "metadata": {},
   "source": [
    "### FECHANDO A CONEXÃO COM O DW"
   ]
  },
  {
   "cell_type": "code",
   "execution_count": 29,
   "metadata": {},
   "outputs": [],
   "source": [
    "# Confirmar a transação\n",
    "conexaoDW.commit()\n",
    "\n",
    "# Fechar a conexão\n",
    "conexaoDW.close()"
   ]
  },
  {
   "cell_type": "code",
   "execution_count": 30,
   "metadata": {},
   "outputs": [
    {
     "name": "stdout",
     "output_type": "stream",
     "text": [
      "01 - WebScrapingDadosIBGEdoRJ.ipynb\n",
      "02 - Tabela tbLogMunic criada para manter o historico.png\n",
      "03 - Tabela dMunicipio criada para manter os dados atualizados.png\n",
      "04 - CargaDimensaoDelegaciasPolicia.ipynb\n",
      "05 - IntegrandoDadosIBGE_DP_BPM.ipynb\n",
      "BPM.xlsx\n",
      "DP.csv\n",
      "ResponsavelDP.csv\n",
      "areaBPMv1.csv\n",
      "pascoaDW.db\n",
      "pascoaODS.db\n",
      "popDP.csv\n"
     ]
    }
   ],
   "source": [
    "!ls"
   ]
  },
  {
   "cell_type": "code",
   "execution_count": null,
   "metadata": {},
   "outputs": [],
   "source": []
  }
 ],
 "metadata": {
  "kernelspec": {
   "display_name": "Python 3",
   "language": "python",
   "name": "python3"
  },
  "language_info": {
   "codemirror_mode": {
    "name": "ipython",
    "version": 3
   },
   "file_extension": ".py",
   "mimetype": "text/x-python",
   "name": "python",
   "nbconvert_exporter": "python",
   "pygments_lexer": "ipython3",
   "version": "3.8.5"
  }
 },
 "nbformat": 4,
 "nbformat_minor": 4
}
