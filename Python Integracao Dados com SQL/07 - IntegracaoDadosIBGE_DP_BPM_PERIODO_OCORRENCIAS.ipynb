{
 "cells": [
  {
   "cell_type": "markdown",
   "metadata": {},
   "source": [
    "## PROJETO PÁSCOA COM DADOS\n",
    "#### Apoiei o Projeto Dado Humanizado do Prof. Cláudio Bonel. Foi uma iniciativa chamada \"Páscoa com Dados\", que entregou ovos de páscoa para 100 crianças do Complexo do Alemão/RJ em 2022."
   ]
  },
  {
   "cell_type": "code",
   "execution_count": 226,
   "metadata": {},
   "outputs": [],
   "source": [
    "# Importando as bibliotecas necessarias\n",
    "import pandas as pd\n",
    "from datetime import datetime\n",
    "from pathlib import Path\n",
    "import sqlite3 as sql"
   ]
  },
  {
   "cell_type": "code",
   "execution_count": 227,
   "metadata": {},
   "outputs": [
    {
     "data": {
      "text/plain": [
       "'21/04/2022 12:04'"
      ]
     },
     "execution_count": 227,
     "metadata": {},
     "output_type": "execute_result"
    }
   ],
   "source": [
    "dtCarga = datetime.today().strftime('%d/%m/%Y %H:%M')\n",
    "dtCarga"
   ]
  },
  {
   "cell_type": "markdown",
   "metadata": {},
   "source": [
    "### COLETA DOS DADOS DOS REGISTROS DE OCORRÊNCIAS"
   ]
  },
  {
   "cell_type": "code",
   "execution_count": 228,
   "metadata": {},
   "outputs": [
    {
     "data": {
      "text/html": [
       "<div>\n",
       "<style scoped>\n",
       "    .dataframe tbody tr th:only-of-type {\n",
       "        vertical-align: middle;\n",
       "    }\n",
       "\n",
       "    .dataframe tbody tr th {\n",
       "        vertical-align: top;\n",
       "    }\n",
       "\n",
       "    .dataframe thead th {\n",
       "        text-align: right;\n",
       "    }\n",
       "</style>\n",
       "<table border=\"1\" class=\"dataframe\">\n",
       "  <thead>\n",
       "    <tr style=\"text-align: right;\">\n",
       "      <th></th>\n",
       "      <th>COD_DP</th>\n",
       "      <th>COD_BPM</th>\n",
       "      <th>ano</th>\n",
       "      <th>mes</th>\n",
       "      <th>mes_ano</th>\n",
       "      <th>Regiao</th>\n",
       "      <th>COD_Munic_IBGE</th>\n",
       "      <th>Ocorrencia</th>\n",
       "      <th>Soma de Qtde</th>\n",
       "      <th>dtCarga</th>\n",
       "    </tr>\n",
       "  </thead>\n",
       "  <tbody>\n",
       "    <tr>\n",
       "      <th>0</th>\n",
       "      <td>1</td>\n",
       "      <td>5</td>\n",
       "      <td>2018</td>\n",
       "      <td>1</td>\n",
       "      <td>2018m01</td>\n",
       "      <td>1</td>\n",
       "      <td>3304557</td>\n",
       "      <td>ameaca</td>\n",
       "      <td>7</td>\n",
       "      <td>21/04/2022 12:04</td>\n",
       "    </tr>\n",
       "    <tr>\n",
       "      <th>1</th>\n",
       "      <td>1</td>\n",
       "      <td>5</td>\n",
       "      <td>2018</td>\n",
       "      <td>1</td>\n",
       "      <td>2018m01</td>\n",
       "      <td>1</td>\n",
       "      <td>3304557</td>\n",
       "      <td>apreensao_drogas</td>\n",
       "      <td>3</td>\n",
       "      <td>21/04/2022 12:04</td>\n",
       "    </tr>\n",
       "    <tr>\n",
       "      <th>2</th>\n",
       "      <td>1</td>\n",
       "      <td>5</td>\n",
       "      <td>2018</td>\n",
       "      <td>1</td>\n",
       "      <td>2018m01</td>\n",
       "      <td>1</td>\n",
       "      <td>3304557</td>\n",
       "      <td>estelionato</td>\n",
       "      <td>81</td>\n",
       "      <td>21/04/2022 12:04</td>\n",
       "    </tr>\n",
       "    <tr>\n",
       "      <th>3</th>\n",
       "      <td>1</td>\n",
       "      <td>5</td>\n",
       "      <td>2018</td>\n",
       "      <td>1</td>\n",
       "      <td>2018m01</td>\n",
       "      <td>1</td>\n",
       "      <td>3304557</td>\n",
       "      <td>estupro</td>\n",
       "      <td>1</td>\n",
       "      <td>21/04/2022 12:04</td>\n",
       "    </tr>\n",
       "    <tr>\n",
       "      <th>4</th>\n",
       "      <td>1</td>\n",
       "      <td>5</td>\n",
       "      <td>2018</td>\n",
       "      <td>1</td>\n",
       "      <td>2018m01</td>\n",
       "      <td>1</td>\n",
       "      <td>3304557</td>\n",
       "      <td>extorsao</td>\n",
       "      <td>3</td>\n",
       "      <td>21/04/2022 12:04</td>\n",
       "    </tr>\n",
       "  </tbody>\n",
       "</table>\n",
       "</div>"
      ],
      "text/plain": [
       "   COD_DP  COD_BPM   ano  mes  mes_ano  Regiao  COD_Munic_IBGE  \\\n",
       "0       1        5  2018    1  2018m01       1         3304557   \n",
       "1       1        5  2018    1  2018m01       1         3304557   \n",
       "2       1        5  2018    1  2018m01       1         3304557   \n",
       "3       1        5  2018    1  2018m01       1         3304557   \n",
       "4       1        5  2018    1  2018m01       1         3304557   \n",
       "\n",
       "         Ocorrencia  Soma de Qtde           dtCarga  \n",
       "0            ameaca             7  21/04/2022 12:04  \n",
       "1  apreensao_drogas             3  21/04/2022 12:04  \n",
       "2       estelionato            81  21/04/2022 12:04  \n",
       "3           estupro             1  21/04/2022 12:04  \n",
       "4          extorsao             3  21/04/2022 12:04  "
      ]
     },
     "execution_count": 228,
     "metadata": {},
     "output_type": "execute_result"
    }
   ],
   "source": [
    "# Manipulando o sistema de arquivos no Windows\n",
    "LocalArquivo = 'E:\\\\Projetos\\\\Python\\\\08 - Prof Bonel\\\\Python Integracao Dados com SQL\\\\'\n",
    "\n",
    "#Criar Data Frame com os dados dos registros das ocorrências\n",
    "tbLogOcorrencias = pd.DataFrame(pd.read_csv(LocalArquivo + \"OcorrenciaV2.csv\"))\n",
    "\n",
    "#Criando coluna com a data da carga\n",
    "tbLogOcorrencias['dtCarga'] = dtCarga\n",
    "\n",
    "tbLogOcorrencias.head()"
   ]
  },
  {
   "cell_type": "code",
   "execution_count": 229,
   "metadata": {},
   "outputs": [
    {
     "data": {
      "text/plain": [
       "(124008, 10)"
      ]
     },
     "execution_count": 229,
     "metadata": {},
     "output_type": "execute_result"
    }
   ],
   "source": [
    "# dimensao\n",
    "tbLogOcorrencias.shape"
   ]
  },
  {
   "cell_type": "code",
   "execution_count": 230,
   "metadata": {},
   "outputs": [
    {
     "name": "stdout",
     "output_type": "stream",
     "text": [
      "<class 'pandas.core.frame.DataFrame'>\n",
      "RangeIndex: 124008 entries, 0 to 124007\n",
      "Data columns (total 10 columns):\n",
      " #   Column          Non-Null Count   Dtype \n",
      "---  ------          --------------   ----- \n",
      " 0   COD_DP          124008 non-null  int64 \n",
      " 1   COD_BPM         124008 non-null  int64 \n",
      " 2   ano             124008 non-null  int64 \n",
      " 3   mes             124008 non-null  int64 \n",
      " 4   mes_ano         124008 non-null  object\n",
      " 5   Regiao          124008 non-null  int64 \n",
      " 6   COD_Munic_IBGE  124008 non-null  int64 \n",
      " 7   Ocorrencia      124008 non-null  object\n",
      " 8   Soma de Qtde    124008 non-null  int64 \n",
      " 9   dtCarga         124008 non-null  object\n",
      "dtypes: int64(7), object(3)\n",
      "memory usage: 9.5+ MB\n"
     ]
    }
   ],
   "source": [
    "# Informações\n",
    "tbLogOcorrencias.info()"
   ]
  },
  {
   "cell_type": "code",
   "execution_count": 231,
   "metadata": {},
   "outputs": [
    {
     "data": {
      "text/plain": [
       "COD_DP            0\n",
       "COD_BPM           0\n",
       "ano               0\n",
       "mes               0\n",
       "mes_ano           0\n",
       "Regiao            0\n",
       "COD_Munic_IBGE    0\n",
       "Ocorrencia        0\n",
       "Soma de Qtde      0\n",
       "dtCarga           0\n",
       "dtype: int64"
      ]
     },
     "execution_count": 231,
     "metadata": {},
     "output_type": "execute_result"
    }
   ],
   "source": [
    "# Verificando a existencia de nulos\n",
    "tbLogOcorrencias.isnull().sum()"
   ]
  },
  {
   "cell_type": "markdown",
   "metadata": {},
   "source": [
    "### CONECTANDO NO ODS E INFORMANDO AO PYTHON QUE USAREI LINGUAGEM SQL"
   ]
  },
  {
   "cell_type": "code",
   "execution_count": 232,
   "metadata": {},
   "outputs": [],
   "source": [
    "# Manipulando o sistema de arquivos no Windows\n",
    "endereco = Path('E:\\\\Projetos\\\\Python\\\\08 - Prof Bonel\\\\Python Integracao Dados com SQL\\\\')\n",
    "\n",
    "BDODS = endereco / \"pascoaODS.db\"\n",
    "BDDW = endereco / \"pascoaDW.db\"\n",
    "\n",
    "# Conectando no BDODS\n",
    "conexaoODS = sql.connect(BDODS)\n",
    "\n",
    "# Definição de manipulação de dados em SQL. Métdo cursor permite manipular dados no SQL\n",
    "SQL_ODS = conexaoODS.cursor()"
   ]
  },
  {
   "cell_type": "markdown",
   "metadata": {},
   "source": [
    "### CRIANDO A TABELA tbLogOcorrencias, no SQLite, via SQL"
   ]
  },
  {
   "cell_type": "code",
   "execution_count": 233,
   "metadata": {},
   "outputs": [],
   "source": [
    "# definição da query de criação da tbLogOcorrrencias\n",
    "\n",
    "qry_create_tbLogOcorrencias = '''\n",
    "\n",
    "    CREATE TABLE IF NOT EXISTS tbLogOcorrencias (\n",
    "    \n",
    "    codDP INTEGER,\n",
    "    codBPM INTEGER,\n",
    "    ano INTEGER,\n",
    "    mes INTEGER,\n",
    "    mes_ano CHAR(7),\n",
    "    regiao INTEGER,\n",
    "    codMunicIBGE INTEGER,\n",
    "    ocorrencias VARCHAR(100),\n",
    "    qtde INTEGER,\n",
    "    dtCarga DATETIME\n",
    "    \n",
    "    )\n",
    "\n",
    "'''\n",
    "\n",
    "# criando a tbLogOcorrencias\n",
    "SQL_ODS.execute(qry_create_tbLogOcorrencias)\n",
    "\n",
    "# Criação de index\n",
    "SQL_ODS.execute(\"CREATE INDEX IF NOT EXISTS idx_tbLogOcorrencias ON tbLogOcorrencias (codDP,codBPM,codMunicIBGE)\")\n",
    "\n",
    "# confirmar a transação\n",
    "conexaoODS.commit()"
   ]
  },
  {
   "cell_type": "markdown",
   "metadata": {},
   "source": [
    "### CARREGANDO DADOS NA tbLogOcorrencias"
   ]
  },
  {
   "cell_type": "code",
   "execution_count": 234,
   "metadata": {},
   "outputs": [
    {
     "name": "stdout",
     "output_type": "stream",
     "text": [
      "Iniciando a carga de dados na tbLogOcorrencias\n",
      "-----------------------------------------------\n",
      "Fim da carga de dados da tbLogOcorrencias! 124008 Registros inseridos!\n"
     ]
    }
   ],
   "source": [
    "# inserindo dados na tbLogOcorrencias\n",
    "print(\"Iniciando a carga de dados na tbLogOcorrencias\")\n",
    "print(\"-----------------------------------------------\")\n",
    "SQL_ODS.executemany('''\n",
    "\n",
    "    INSERT INTO tbLogOcorrencias (codDP,codBPM,ano,mes,mes_ano,regiao,codMunicIBGE,ocorrencias,qtde,dtCarga)\n",
    "    VALUES(?,?,?,?,?,?,?,?,?,?)    \n",
    "    ''', \n",
    "    tbLogOcorrencias.values.tolist()\n",
    "\n",
    ")\n",
    "\n",
    "# confirmar a transação\n",
    "conexaoODS.commit()\n",
    "\n",
    "print(\"Fim da carga de dados da tbLogOcorrencias!\",len(tbLogOcorrencias),\"Registros inseridos!\")"
   ]
  },
  {
   "cell_type": "markdown",
   "metadata": {},
   "source": [
    "### CRIANDO O DATAFRAME COM O RESULTADO DA QUERY DE CARGA DE DADOS DAS OCORRÊNCIAS"
   ]
  },
  {
   "cell_type": "code",
   "execution_count": 235,
   "metadata": {},
   "outputs": [
    {
     "data": {
      "text/html": [
       "<div>\n",
       "<style scoped>\n",
       "    .dataframe tbody tr th:only-of-type {\n",
       "        vertical-align: middle;\n",
       "    }\n",
       "\n",
       "    .dataframe tbody tr th {\n",
       "        vertical-align: top;\n",
       "    }\n",
       "\n",
       "    .dataframe thead th {\n",
       "        text-align: right;\n",
       "    }\n",
       "</style>\n",
       "<table border=\"1\" class=\"dataframe\">\n",
       "  <thead>\n",
       "    <tr style=\"text-align: right;\">\n",
       "      <th></th>\n",
       "      <th>codDP</th>\n",
       "      <th>codBPM</th>\n",
       "      <th>ano</th>\n",
       "      <th>mes</th>\n",
       "      <th>regiao</th>\n",
       "      <th>codMunicIBGE</th>\n",
       "      <th>ocorrencias</th>\n",
       "      <th>qtde</th>\n",
       "    </tr>\n",
       "  </thead>\n",
       "  <tbody>\n",
       "    <tr>\n",
       "      <th>0</th>\n",
       "      <td>1</td>\n",
       "      <td>5</td>\n",
       "      <td>2018</td>\n",
       "      <td>1</td>\n",
       "      <td>1</td>\n",
       "      <td>3304557</td>\n",
       "      <td>ameaca</td>\n",
       "      <td>7</td>\n",
       "    </tr>\n",
       "    <tr>\n",
       "      <th>1</th>\n",
       "      <td>1</td>\n",
       "      <td>5</td>\n",
       "      <td>2018</td>\n",
       "      <td>1</td>\n",
       "      <td>1</td>\n",
       "      <td>3304557</td>\n",
       "      <td>apreensao_drogas</td>\n",
       "      <td>3</td>\n",
       "    </tr>\n",
       "    <tr>\n",
       "      <th>2</th>\n",
       "      <td>1</td>\n",
       "      <td>5</td>\n",
       "      <td>2018</td>\n",
       "      <td>1</td>\n",
       "      <td>1</td>\n",
       "      <td>3304557</td>\n",
       "      <td>estelionato</td>\n",
       "      <td>81</td>\n",
       "    </tr>\n",
       "    <tr>\n",
       "      <th>3</th>\n",
       "      <td>1</td>\n",
       "      <td>5</td>\n",
       "      <td>2018</td>\n",
       "      <td>1</td>\n",
       "      <td>1</td>\n",
       "      <td>3304557</td>\n",
       "      <td>estupro</td>\n",
       "      <td>1</td>\n",
       "    </tr>\n",
       "    <tr>\n",
       "      <th>4</th>\n",
       "      <td>1</td>\n",
       "      <td>5</td>\n",
       "      <td>2018</td>\n",
       "      <td>1</td>\n",
       "      <td>1</td>\n",
       "      <td>3304557</td>\n",
       "      <td>extorsao</td>\n",
       "      <td>3</td>\n",
       "    </tr>\n",
       "  </tbody>\n",
       "</table>\n",
       "</div>"
      ],
      "text/plain": [
       "   codDP  codBPM   ano  mes  regiao  codMunicIBGE       ocorrencias  qtde\n",
       "0      1       5  2018    1       1       3304557            ameaca     7\n",
       "1      1       5  2018    1       1       3304557  apreensao_drogas     3\n",
       "2      1       5  2018    1       1       3304557       estelionato    81\n",
       "3      1       5  2018    1       1       3304557           estupro     1\n",
       "4      1       5  2018    1       1       3304557          extorsao     3"
      ]
     },
     "execution_count": 235,
     "metadata": {},
     "output_type": "execute_result"
    }
   ],
   "source": [
    "# definição da query de carga de dados\n",
    "\n",
    "qry_fOcorrencias = '''\n",
    "\n",
    "    SELECT\n",
    "        a.codDP,\n",
    "        a.codBPM,\n",
    "        a.ano,\n",
    "        a.mes,\n",
    "        a.regiao,\n",
    "        a.codMunicIBGE,\n",
    "        a.ocorrencias,\n",
    "        a.qtde\n",
    "    FROM tbLogOcorrencias a\n",
    "    WHERE a.dtCarga = (\n",
    "                        SELECT MAX(dtCarga)\n",
    "                        FROM tbLogOcorrencias\n",
    "                        )\n",
    "\n",
    "'''\n",
    "\n",
    "#popular o dataframe\n",
    "fOcorrencias = pd.read_sql(qry_fOcorrencias,conexaoODS)\n",
    "\n",
    "fOcorrencias.head()"
   ]
  },
  {
   "cell_type": "markdown",
   "metadata": {},
   "source": [
    "### FECHANDO A CONEXÃO COM O ODS"
   ]
  },
  {
   "cell_type": "code",
   "execution_count": 236,
   "metadata": {},
   "outputs": [],
   "source": [
    "#Confirmar a transação\n",
    "conexaoODS.commit()\n",
    "\n",
    "#Fechar a conexão\n",
    "conexaoODS.close()"
   ]
  },
  {
   "cell_type": "markdown",
   "metadata": {},
   "source": [
    "### CONECTANDO NO DW E INFORMANDO AO PYTHON QUE USAREI LINGUAGEM SQL"
   ]
  },
  {
   "cell_type": "code",
   "execution_count": 237,
   "metadata": {},
   "outputs": [],
   "source": [
    "# Conectar no BDDW\n",
    "conexaoDW = sql.connect(BDDW)\n",
    "\n",
    "# Definição de manipulação de dados em SQL\n",
    "SQL_DW = conexaoDW.cursor()"
   ]
  },
  {
   "cell_type": "markdown",
   "metadata": {},
   "source": [
    "### CRIANDO A TABELA FATO OCORRENCIAS, NO DW"
   ]
  },
  {
   "cell_type": "code",
   "execution_count": 238,
   "metadata": {},
   "outputs": [],
   "source": [
    "# definindo a qry da criação da fOcorrencias\n",
    "\n",
    "qry_create_fOcorrencias = '''\n",
    "\n",
    "    CREATE TABLE IF NOT EXISTS fOcorrencias (\n",
    "    \n",
    "    idDP INTEGER REFERENCES dDP(idDP) ON UPDATE NO ACTION ON DELETE NO ACTION,\n",
    "    idBPM INTEGER REFERENCES dBPM(idBPM) ON UPDATE NO ACTION ON DELETE NO ACTION,\n",
    "    idPeriodo INTEGER REFERENCES dPeriodo(idPeriodo) ON UPDATE NO ACTION ON DELETE NO ACTION,\n",
    "    regiao INTEGER,\n",
    "    idMunic INTEGER REFERENCES dMunicipio(idMuni) ON UPDATE NO ACTION ON DELETE NO ACTION,\n",
    "    ocorrencias VARCHAR(100),\n",
    "    qtde INTEGER\n",
    "    \n",
    "    )\n",
    "\n",
    "'''\n",
    "\n",
    "# criação da fOcorrencias\n",
    "SQL_DW.execute(qry_create_fOcorrencias)\n",
    "\n",
    "# criação de index\n",
    "SQL_DW.execute(\"CREATE INDEX IF NOT EXISTS idx_fOcorrencias ON fOcorrencias(idDP,idBPM,idPeriodo,idMunic)\")\n",
    "               \n",
    "# confirmar a transação\n",
    "conexaoDW.commit()"
   ]
  },
  {
   "cell_type": "markdown",
   "metadata": {},
   "source": [
    "### INSERINDO DADOS NA FATO OCORRÊNCIAS (fOcorrencias) - CARGA INCREMENTAL"
   ]
  },
  {
   "cell_type": "code",
   "execution_count": 239,
   "metadata": {},
   "outputs": [],
   "source": [
    "# criar um tabela temporária para comparar a existencia de dados novos\n",
    "fOcorrencias.to_sql('tempOcorrencias',conexaoDW,if_exists=\"replace\")"
   ]
  },
  {
   "cell_type": "code",
   "execution_count": 240,
   "metadata": {},
   "outputs": [
    {
     "data": {
      "text/html": [
       "<div>\n",
       "<style scoped>\n",
       "    .dataframe tbody tr th:only-of-type {\n",
       "        vertical-align: middle;\n",
       "    }\n",
       "\n",
       "    .dataframe tbody tr th {\n",
       "        vertical-align: top;\n",
       "    }\n",
       "\n",
       "    .dataframe thead th {\n",
       "        text-align: right;\n",
       "    }\n",
       "</style>\n",
       "<table border=\"1\" class=\"dataframe\">\n",
       "  <thead>\n",
       "    <tr style=\"text-align: right;\">\n",
       "      <th></th>\n",
       "      <th>idDP</th>\n",
       "      <th>idBPM</th>\n",
       "      <th>idPeriodo</th>\n",
       "      <th>regiao</th>\n",
       "      <th>idMunic</th>\n",
       "      <th>ocorrencias</th>\n",
       "      <th>qtde</th>\n",
       "    </tr>\n",
       "  </thead>\n",
       "  <tbody>\n",
       "  </tbody>\n",
       "</table>\n",
       "</div>"
      ],
      "text/plain": [
       "Empty DataFrame\n",
       "Columns: [idDP, idBPM, idPeriodo, regiao, idMunic, ocorrencias, qtde]\n",
       "Index: []"
      ]
     },
     "execution_count": 240,
     "metadata": {},
     "output_type": "execute_result"
    }
   ],
   "source": [
    "qry_carga_incremental_focorrencias = '''\n",
    "\n",
    "    SELECT\n",
    "        b.idDP,\n",
    "        c.idBPM,\n",
    "        d.idPeriodo,\n",
    "        a.regiao,\n",
    "        e.idMunic,\n",
    "        a.ocorrencias,\n",
    "        a.qtde\n",
    "    FROM tempOcorrencias a\n",
    "    JOIN dDP b\n",
    "    ON a.codDP = b.codDP\n",
    "    JOIN dBPM c\n",
    "    ON a.codBPM = c.codBPM\n",
    "    JOIN dPeriodo d\n",
    "    ON (a.ano = d.ano) AND (a.mes = d.mes)\n",
    "    JOIN dMunicipio e\n",
    "    ON a.codMunicIBGE = e.codMunic\n",
    "    LEFT JOIN fOcorrencias g\n",
    "    ON b.idDP = g.idDP\n",
    "    AND c.idBPM = g.idBPM\n",
    "    AND d.idPeriodo = g.idPeriodo\n",
    "    AND e.idMunic = g.idMunic\n",
    "    WHERE g.idDP is null\n",
    "    AND g.idBPM is null\n",
    "    AND g.idPeriodo is null\n",
    "    AND g.idMunic is null\n",
    "\n",
    "'''\n",
    "\n",
    "#criando um DF Incremental\n",
    "carga_fOcorrencias = pd.read_sql(qry_carga_incremental_focorrencias,conexaoDW)\n",
    "\n",
    "carga_fOcorrencias"
   ]
  },
  {
   "cell_type": "code",
   "execution_count": 241,
   "metadata": {},
   "outputs": [
    {
     "name": "stdout",
     "output_type": "stream",
     "text": [
      "Carregando dados na tabela fOcorrencias.\n",
      "----------------------------------------\n",
      "Fim da carga incremental de dados na fOcorrencias! 0 registros inseridos!\n"
     ]
    }
   ],
   "source": [
    "# carregando dados na tabela fOcorrencias\n",
    "print(\"Carregando dados na tabela fOcorrencias.\")\n",
    "print(\"----------------------------------------\")\n",
    "\n",
    "SQL_DW.executemany('''\n",
    "\n",
    "    INSERT INTO fOcorrencias (idDP,idBPM,idPeriodo,regiao,idMunic,ocorrencias,qtde)\n",
    "    VALUES(?,?,?,?,?,?,?)''',\n",
    "    \n",
    "    carga_fOcorrencias.values.tolist()\n",
    ")\n",
    "\n",
    "\n",
    "\n",
    "# confirmar a transação\n",
    "conexaoDW.commit()\n",
    "\n",
    "print(\"Fim da carga incremental de dados na fOcorrencias!\",len(carga_fOcorrencias),\"registros inseridos!\")"
   ]
  },
  {
   "cell_type": "markdown",
   "metadata": {},
   "source": [
    "### ATUALIZANDO DADOS NA FATO OCORRÊNCIAS (fOcorrencias) - ATUALIZAÇÃO RETROATIVA EM REGISTROS EXISTENTES"
   ]
  },
  {
   "cell_type": "code",
   "execution_count": 242,
   "metadata": {},
   "outputs": [
    {
     "data": {
      "text/html": [
       "<div>\n",
       "<style scoped>\n",
       "    .dataframe tbody tr th:only-of-type {\n",
       "        vertical-align: middle;\n",
       "    }\n",
       "\n",
       "    .dataframe tbody tr th {\n",
       "        vertical-align: top;\n",
       "    }\n",
       "\n",
       "    .dataframe thead th {\n",
       "        text-align: right;\n",
       "    }\n",
       "</style>\n",
       "<table border=\"1\" class=\"dataframe\">\n",
       "  <thead>\n",
       "    <tr style=\"text-align: right;\">\n",
       "      <th></th>\n",
       "      <th>qtde</th>\n",
       "      <th>idDP</th>\n",
       "      <th>idBPM</th>\n",
       "      <th>idPeriodo</th>\n",
       "      <th>regiao</th>\n",
       "      <th>idMunic</th>\n",
       "      <th>ocorrencias</th>\n",
       "    </tr>\n",
       "  </thead>\n",
       "  <tbody>\n",
       "    <tr>\n",
       "      <th>0</th>\n",
       "      <td>7</td>\n",
       "      <td>1</td>\n",
       "      <td>4</td>\n",
       "      <td>1</td>\n",
       "      <td>1</td>\n",
       "      <td>68</td>\n",
       "      <td>ameaca</td>\n",
       "    </tr>\n",
       "    <tr>\n",
       "      <th>1</th>\n",
       "      <td>3</td>\n",
       "      <td>1</td>\n",
       "      <td>4</td>\n",
       "      <td>1</td>\n",
       "      <td>1</td>\n",
       "      <td>68</td>\n",
       "      <td>apreensao_drogas</td>\n",
       "    </tr>\n",
       "  </tbody>\n",
       "</table>\n",
       "</div>"
      ],
      "text/plain": [
       "   qtde  idDP  idBPM  idPeriodo  regiao  idMunic       ocorrencias\n",
       "0     7     1      4          1       1       68            ameaca\n",
       "1     3     1      4          1       1       68  apreensao_drogas"
      ]
     },
     "execution_count": 242,
     "metadata": {},
     "output_type": "execute_result"
    }
   ],
   "source": [
    "# query para verificar se tem dados atualizados na base que ja existia\n",
    "\n",
    "qry_atualizacao_fOcorrencias = '''\n",
    "    SELECT\n",
    "        a.qtde,\n",
    "        b.idDP,\n",
    "        c.idBPM,\n",
    "        d.idPeriodo,\n",
    "        a.regiao,\n",
    "        e.idMunic,\n",
    "        a.ocorrencias        \n",
    "    FROM tempOcorrencias a\n",
    "    JOIN dDP b\n",
    "    ON a.codDP = b.codDP\n",
    "    JOIN dBPM c\n",
    "    ON a.codBPM = c.codBPM\n",
    "    JOIN dPeriodo d\n",
    "    ON (a.ano = d.ano) AND (a.mes = d.mes)\n",
    "    JOIN dMunicipio e\n",
    "    ON a.codMunicIBGE = e.codMunic\n",
    "    LEFT JOIN fOcorrencias g\n",
    "    ON b.idDP = g.idDP\n",
    "    AND c.idBPM = g.idBPM\n",
    "    AND d.idPeriodo = g.idPeriodo\n",
    "    AND e.idMunic = g.idMunic\n",
    "    AND a.regiao = g.regiao\n",
    "    AND a.ocorrencias = g.ocorrencias\n",
    "    WHERE a.qtde <> g.qtde\n",
    "'''\n",
    "\n",
    "# criando um DataFrame de atualização\n",
    "atualiza_fOcorrencias = pd.read_sql(qry_atualizacao_fOcorrencias, conexaoDW)\n",
    "\n",
    "atualiza_fOcorrencias"
   ]
  },
  {
   "cell_type": "code",
   "execution_count": 243,
   "metadata": {},
   "outputs": [
    {
     "name": "stdout",
     "output_type": "stream",
     "text": [
      "Iniciando atualização na tabela fato Ocorrencias!\n",
      "Fim da atualização de dados na tabela fato Ocorrencias! 2 registros atualizados!\n"
     ]
    }
   ],
   "source": [
    "# Atualizando os dados retroativos na tabela fOcorrencias\n",
    "print(\"Iniciando atualização na tabela fato Ocorrencias!\")\n",
    "\n",
    "# definindo a query de atualização\n",
    "qry_atualiza_fOcorrencias = '''\n",
    "    \n",
    "    UPDATE fOcorrencias\n",
    "    SET qtde = ?\n",
    "    WHERE idDP = ?\n",
    "    AND idBPM = ?\n",
    "    AND idPeriodo = ?\n",
    "    AND regiao = ?\n",
    "    AND idMunic = ?\n",
    "    AND ocorrencias = ?\n",
    "\n",
    "'''\n",
    "\n",
    "# atualizando dados na fOcorrencias\n",
    "SQL_DW.executemany(qry_atualiza_fOcorrencias, atualiza_fOcorrencias.values.tolist())\n",
    "\n",
    "# confirmar a transação\n",
    "conexaoDW.commit()\n",
    "\n",
    "print(\"Fim da atualização de dados na tabela fato Ocorrencias!\", len(atualiza_fOcorrencias), \"registros atualizados!\")"
   ]
  },
  {
   "cell_type": "code",
   "execution_count": 244,
   "metadata": {},
   "outputs": [],
   "source": [
    "# deletar a tabela temporária\n",
    "SQL_DW.execute(\"DROP TABLE tempOcorrencias\")\n",
    "\n",
    "# Confirmar a transação\n",
    "conexaoDW.commit()"
   ]
  },
  {
   "cell_type": "markdown",
   "metadata": {},
   "source": [
    "### FECHANDO A CONEXÃO COM O DW"
   ]
  },
  {
   "cell_type": "code",
   "execution_count": 245,
   "metadata": {},
   "outputs": [],
   "source": [
    "# Fechar a conexão\n",
    "conexaoDW.close()"
   ]
  },
  {
   "cell_type": "code",
   "execution_count": 246,
   "metadata": {},
   "outputs": [
    {
     "name": "stdout",
     "output_type": "stream",
     "text": [
      "01 - WebScrapingDadosIBGEdoRJ.ipynb\n",
      "02 - Tabela tbLogMunic criada para manter o historico.png\n",
      "03 - Tabela dMunicipio criada para manter os dados atualizados.png\n",
      "04 - CargaDimensaoDelegaciasPolicia.ipynb\n",
      "05 - IntegrandoDadosIBGE_DP_BPM.ipynb\n",
      "06 - IntegracaoDadosIBGE_DP_BPM_PERIODO.ipynb\n",
      "07 - IntegracaoDadosIBGE_DP_BPM_PERIODO_OCORRENCIAS.ipynb\n",
      "BPM.xlsx\n",
      "DP.csv\n",
      "OcorrenciaV2.csv\n",
      "ResponsavelDP.csv\n",
      "areaBPMv1.csv\n",
      "pascoaDW.db\n",
      "pascoaODS.db\n",
      "popDP.csv\n"
     ]
    }
   ],
   "source": [
    "!ls"
   ]
  },
  {
   "cell_type": "code",
   "execution_count": null,
   "metadata": {},
   "outputs": [],
   "source": []
  }
 ],
 "metadata": {
  "kernelspec": {
   "display_name": "Python 3",
   "language": "python",
   "name": "python3"
  },
  "language_info": {
   "codemirror_mode": {
    "name": "ipython",
    "version": 3
   },
   "file_extension": ".py",
   "mimetype": "text/x-python",
   "name": "python",
   "nbconvert_exporter": "python",
   "pygments_lexer": "ipython3",
   "version": "3.8.5"
  }
 },
 "nbformat": 4,
 "nbformat_minor": 4
}
