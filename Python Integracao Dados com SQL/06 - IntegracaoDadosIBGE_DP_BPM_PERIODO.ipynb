{
 "cells": [
  {
   "cell_type": "markdown",
   "metadata": {},
   "source": [
    "## PROJETO PÁSCOA COM DADOS\n",
    "#### Apoiei o Projeto Dado Humanizado do Prof. Cláudio Bonel. Foi uma iniciativa chamada \"Páscoa com Dados\", que entregou ovos de páscoa para 100 crianças do Complexo do Alemão/RJ em 2022."
   ]
  },
  {
   "cell_type": "code",
   "execution_count": 1,
   "metadata": {},
   "outputs": [],
   "source": [
    "# Importando as bibliotecas necessarias\n",
    "import pandas as pd\n",
    "from datetime import datetime\n",
    "from pathlib import Path\n",
    "import sqlite3 as sql"
   ]
  },
  {
   "cell_type": "code",
   "execution_count": 2,
   "metadata": {},
   "outputs": [
    {
     "data": {
      "text/plain": [
       "'16/04/2022 17:03'"
      ]
     },
     "execution_count": 2,
     "metadata": {},
     "output_type": "execute_result"
    }
   ],
   "source": [
    "dtCarga = datetime.today().strftime('%d/%m/%Y %H:%M')\n",
    "dtCarga"
   ]
  },
  {
   "cell_type": "markdown",
   "metadata": {},
   "source": [
    "### CONECTANDO NO DW E INFORMANDO AO PYTHON QUE USAREI LINGUAGEM SQL"
   ]
  },
  {
   "cell_type": "code",
   "execution_count": 4,
   "metadata": {},
   "outputs": [],
   "source": [
    "# Manipulando o sistema de arquivos no Windows\n",
    "endereco = Path('E:\\\\Projetos\\\\Python\\\\08 - Prof Bonel\\\\Python Integracao Dados com SQL\\\\')\n",
    "\n",
    "BDODS = endereco / \"pascoaODS.db\"\n",
    "BDDW = endereco / \"pascoaDW.db\"\n",
    "\n",
    "# Conectando no BDODS\n",
    "conexaoODS = sql.connect(BDODS)\n",
    "\n",
    "# Definição de manipulação de dados em SQL. Métdo cursor permite manipular dados no SQL\n",
    "SQL_ODS = conexaoODS.cursor()"
   ]
  },
  {
   "cell_type": "code",
   "execution_count": 5,
   "metadata": {},
   "outputs": [],
   "source": [
    "# Conectar no BDODS\n",
    "conexaoDW = sql.connect(BDDW)\n",
    "\n",
    "# Definição de manipulação de dados em SQL\n",
    "SQL_DW = conexaoDW.cursor()"
   ]
  },
  {
   "cell_type": "markdown",
   "metadata": {},
   "source": [
    "### CONSTRUINDO A TABELA DE DIMENSÃO PERIODO (dPeriodo), no DW"
   ]
  },
  {
   "cell_type": "code",
   "execution_count": 7,
   "metadata": {},
   "outputs": [],
   "source": [
    "### #Definir a query de criação da tabela\n",
    "qry_dPeriodo = '''\n",
    "    \n",
    "    CREATE TABLE IF NOT EXISTS dPeriodo (\n",
    "    \n",
    "    idPeriodo INTEGER PRIMARY KEY AUTOINCREMENT,\n",
    "    data DATETIME,\n",
    "    mes INTEGER,\n",
    "    ano INTEGER,\n",
    "    trimestre INTEGER,\n",
    "    semestre INTEGER\n",
    "\n",
    "    )\n",
    "'''\n",
    "\n",
    "#executar a criação da dPeriodo\n",
    "SQL_DW.execute(qry_dPeriodo)\n",
    "\n",
    "#executar a criação do index idPeriodo\n",
    "SQL_DW.execute(\"CREATE UNIQUE INDEX IF NOT EXISTS idx_dPeriodo_idPeriodo ON dPeriodo (idPeriodo)\")\n",
    "\n",
    "#executar a criação do index codBPM\n",
    "SQL_DW.execute(\"CREATE INDEX IF NOT EXISTS idx_dPeriodo ON dPeriodo (mes,ano,trimestre,semestre)\")\n",
    "\n",
    "#Confirmar a transação\n",
    "conexaoDW.commit()"
   ]
  },
  {
   "cell_type": "markdown",
   "metadata": {},
   "source": [
    "### DELETANDO DADOS ANTIGOS E REINICIANDO AO AUTOINCREMENTAL DA CHAVE, DA TABELA dPeriodo"
   ]
  },
  {
   "cell_type": "code",
   "execution_count": 8,
   "metadata": {},
   "outputs": [],
   "source": [
    "# Deletar os dados atuais\n",
    "SQL_DW.execute(\"DELETE FROM dPeriodo\")\n",
    "\n",
    "# Reiniciando o autoincramental da chave\n",
    "SQL_DW.execute(\"UPDATE sqlite_sequence SET seq=0 WHERE name='dPeriodo'\")\n",
    "\n",
    "# Confirmar a transação\n",
    "conexaoDW.commit()"
   ]
  },
  {
   "cell_type": "markdown",
   "metadata": {},
   "source": [
    "### INSERINDO DADOS NA DIMENSÃO PERÍODO (dPeriodo), NO DW"
   ]
  },
  {
   "cell_type": "code",
   "execution_count": 9,
   "metadata": {},
   "outputs": [
    {
     "name": "stdout",
     "output_type": "stream",
     "text": [
      "Iniciando a inserção de dados na tabela dPeriodo.\n",
      "-------------------------------------------------\n",
      "Carga finalizada! 53 registros inseridos na tbLogDP!\n"
     ]
    }
   ],
   "source": [
    "# Inserindo registros na tabela dPeriodo\n",
    "print(\"Iniciando a inserção de dados na tabela dPeriodo.\")\n",
    "print(\"-------------------------------------------------\")\n",
    "\n",
    "# definindo query de carga de dados da dPeriodo\n",
    "qry_dados_dPeriodo = '''\n",
    "\n",
    "    WITH data(d) AS\n",
    "        (\n",
    "            VALUES('2018-01-01')\n",
    "            UNION ALL\n",
    "            SELECT date(d,'+1 month')\n",
    "            FROM data\n",
    "            WHERE d < date('now')\n",
    "         )\n",
    "    SELECT \n",
    "         strftime('%d/%m/%Y', d) as data,\n",
    "         cast(strftime('%m', d) as integer) as mes,\n",
    "         cast(strftime('%Y', d) as integer) as ano,\n",
    "         case\n",
    "             when cast(strftime('%m', d) as integer) in (1,2,3) then 1 \n",
    "             when cast(strftime('%m', d) as integer) in (4,5,6) then 2\n",
    "             when cast(strftime('%m', d) as integer) in (7,8,9) then 3\n",
    "                                                                else 4\n",
    "         end as trimestre,\n",
    "         case\n",
    "             when cast(strftime('%m', d) as integer) in (1,2,3,4,5,6) then 1\n",
    "                                                                      else 2\n",
    "         end as semestre                                             \n",
    "    FROM data;\n",
    "\n",
    "'''\n",
    "# Carregando dados no DF dPeriodo\n",
    "dPeriodo = pd.read_sql(qry_dados_dPeriodo,conexaoDW)\n",
    "\n",
    "# Executar a carga de dados na dPeriodo\n",
    "SQL_DW.executemany('''INSERT INTO dPeriodo (data,mes,ano,trimestre,semestre) VALUES (?,?,?,?,?)''',dPeriodo.values.tolist())\n",
    "\n",
    "# confirmar a transação\n",
    "conexaoDW.commit()\n",
    "\n",
    "# Exibir uma mensagem de conclusão de carga\n",
    "print(\"Carga finalizada!\",len(dPeriodo), \"registros inseridos na tbLogDP!\")"
   ]
  },
  {
   "cell_type": "markdown",
   "metadata": {},
   "source": [
    "### FECHANDO A CONEXÃO COM O DW"
   ]
  },
  {
   "cell_type": "code",
   "execution_count": 10,
   "metadata": {},
   "outputs": [],
   "source": [
    "# Confirmar a transação\n",
    "conexaoDW.commit()\n",
    "\n",
    "# Fechar a conexão\n",
    "conexaoDW.close()"
   ]
  },
  {
   "cell_type": "code",
   "execution_count": 11,
   "metadata": {},
   "outputs": [
    {
     "name": "stdout",
     "output_type": "stream",
     "text": [
      "01 - WebScrapingDadosIBGEdoRJ.ipynb\n",
      "02 - Tabela tbLogMunic criada para manter o historico.png\n",
      "03 - Tabela dMunicipio criada para manter os dados atualizados.png\n",
      "04 - CargaDimensaoDelegaciasPolicia.ipynb\n",
      "05 - IntegrandoDadosIBGE_DP_BPM.ipynb\n",
      "06 - IntegracaoDadosIBGE_DP_BPM_PERIODO.ipynb\n",
      "BPM.xlsx\n",
      "DP.csv\n",
      "ResponsavelDP.csv\n",
      "areaBPMv1.csv\n",
      "pascoaDW.db\n",
      "pascoaODS.db\n",
      "popDP.csv\n"
     ]
    }
   ],
   "source": [
    "!ls"
   ]
  },
  {
   "cell_type": "code",
   "execution_count": null,
   "metadata": {},
   "outputs": [],
   "source": []
  }
 ],
 "metadata": {
  "kernelspec": {
   "display_name": "Python 3",
   "language": "python",
   "name": "python3"
  },
  "language_info": {
   "codemirror_mode": {
    "name": "ipython",
    "version": 3
   },
   "file_extension": ".py",
   "mimetype": "text/x-python",
   "name": "python",
   "nbconvert_exporter": "python",
   "pygments_lexer": "ipython3",
   "version": "3.8.5"
  }
 },
 "nbformat": 4,
 "nbformat_minor": 4
}
