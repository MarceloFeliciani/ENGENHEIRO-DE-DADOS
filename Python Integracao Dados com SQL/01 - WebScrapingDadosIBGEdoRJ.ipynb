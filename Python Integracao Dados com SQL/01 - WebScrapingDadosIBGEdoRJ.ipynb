{
 "cells": [
  {
   "cell_type": "markdown",
   "metadata": {},
   "source": [
    "## PROJETO PÁSCOA COM DADOS\n",
    "##### Apoiei o Projeto Dado Humanizado do Prof. Cláudio Bonel. Foi uma iniciativa chamada \"Páscoa com Dados\", que entregou ovos de páscoa para 100 crianças do Complexo do Alemão/RJ em 2022. "
   ]
  },
  {
   "cell_type": "code",
   "execution_count": 1,
   "metadata": {},
   "outputs": [],
   "source": [
    "# Importando as bibliotecas necessarias\n",
    "import pandas as pd\n",
    "from datetime import datetime\n",
    "from pathlib import Path\n",
    "import sqlite3 as sql"
   ]
  },
  {
   "cell_type": "markdown",
   "metadata": {},
   "source": [
    "### COLETA DE DADOS DO SITE DO IBGE\n",
    "##### Webscraping para o Data Warehouse. Criando uma dimensão em Python"
   ]
  },
  {
   "cell_type": "code",
   "execution_count": 2,
   "metadata": {},
   "outputs": [],
   "source": [
    "#Coletando dados do portal do IBGE\n",
    "url = 'https://www.ibge.gov.br/explica/codigos-dos-municipios.php#RJ'"
   ]
  },
  {
   "cell_type": "code",
   "execution_count": 4,
   "metadata": {},
   "outputs": [
    {
     "data": {
      "text/html": [
       "<div>\n",
       "<style scoped>\n",
       "    .dataframe tbody tr th:only-of-type {\n",
       "        vertical-align: middle;\n",
       "    }\n",
       "\n",
       "    .dataframe tbody tr th {\n",
       "        vertical-align: top;\n",
       "    }\n",
       "\n",
       "    .dataframe thead th {\n",
       "        text-align: right;\n",
       "    }\n",
       "</style>\n",
       "<table border=\"1\" class=\"dataframe\">\n",
       "  <thead>\n",
       "    <tr style=\"text-align: right;\">\n",
       "      <th></th>\n",
       "      <th>Municípios do Rio de Janeiro</th>\n",
       "      <th>Códigos</th>\n",
       "    </tr>\n",
       "  </thead>\n",
       "  <tbody>\n",
       "    <tr>\n",
       "      <th>0</th>\n",
       "      <td>Angra dos Reis</td>\n",
       "      <td>3300100</td>\n",
       "    </tr>\n",
       "    <tr>\n",
       "      <th>1</th>\n",
       "      <td>Aperibé</td>\n",
       "      <td>3300159</td>\n",
       "    </tr>\n",
       "    <tr>\n",
       "      <th>2</th>\n",
       "      <td>Araruama</td>\n",
       "      <td>3300209</td>\n",
       "    </tr>\n",
       "    <tr>\n",
       "      <th>3</th>\n",
       "      <td>Areal</td>\n",
       "      <td>3300225</td>\n",
       "    </tr>\n",
       "    <tr>\n",
       "      <th>4</th>\n",
       "      <td>Armação dos Búzios</td>\n",
       "      <td>3300233</td>\n",
       "    </tr>\n",
       "    <tr>\n",
       "      <th>5</th>\n",
       "      <td>Arraial do Cabo</td>\n",
       "      <td>3300258</td>\n",
       "    </tr>\n",
       "    <tr>\n",
       "      <th>6</th>\n",
       "      <td>Barra Mansa</td>\n",
       "      <td>3300407</td>\n",
       "    </tr>\n",
       "    <tr>\n",
       "      <th>7</th>\n",
       "      <td>Barra do Piraí</td>\n",
       "      <td>3300308</td>\n",
       "    </tr>\n",
       "    <tr>\n",
       "      <th>8</th>\n",
       "      <td>Belford Roxo</td>\n",
       "      <td>3300456</td>\n",
       "    </tr>\n",
       "    <tr>\n",
       "      <th>9</th>\n",
       "      <td>Bom Jardim</td>\n",
       "      <td>3300506</td>\n",
       "    </tr>\n",
       "  </tbody>\n",
       "</table>\n",
       "</div>"
      ],
      "text/plain": [
       "  Municípios do Rio de Janeiro  Códigos\n",
       "0               Angra dos Reis  3300100\n",
       "1                      Aperibé  3300159\n",
       "2                     Araruama  3300209\n",
       "3                        Areal  3300225\n",
       "4           Armação dos Búzios  3300233\n",
       "5              Arraial do Cabo  3300258\n",
       "6                  Barra Mansa  3300407\n",
       "7               Barra do Piraí  3300308\n",
       "8                 Belford Roxo  3300456\n",
       "9                   Bom Jardim  3300506"
      ]
     },
     "execution_count": 4,
     "metadata": {},
     "output_type": "execute_result"
    }
   ],
   "source": [
    "# Coletando dados do RJ\n",
    "#pd.read_html(url)[21] # 21 por que é a posicao no corpo da pagina do IBGE. É uma lista de tabelas \n",
    "Dados_IBGE = pd.read_html(url, match='Municípios do Rio de Janeiro')[0]\n",
    "Dados_IBGE.head(10)"
   ]
  },
  {
   "cell_type": "code",
   "execution_count": 5,
   "metadata": {},
   "outputs": [
    {
     "data": {
      "text/plain": [
       "pandas.core.frame.DataFrame"
      ]
     },
     "execution_count": 5,
     "metadata": {},
     "output_type": "execute_result"
    }
   ],
   "source": [
    "type(Dados_IBGE)"
   ]
  },
  {
   "cell_type": "code",
   "execution_count": 5,
   "metadata": {},
   "outputs": [
    {
     "data": {
      "text/plain": [
       "(92, 2)"
      ]
     },
     "execution_count": 5,
     "metadata": {},
     "output_type": "execute_result"
    }
   ],
   "source": [
    "# Dimensao dos dados\n",
    "Dados_IBGE.shape"
   ]
  },
  {
   "cell_type": "code",
   "execution_count": 6,
   "metadata": {},
   "outputs": [
    {
     "name": "stdout",
     "output_type": "stream",
     "text": [
      "<class 'pandas.core.frame.DataFrame'>\n",
      "RangeIndex: 92 entries, 0 to 91\n",
      "Data columns (total 2 columns):\n",
      " #   Column                        Non-Null Count  Dtype \n",
      "---  ------                        --------------  ----- \n",
      " 0   Municípios do Rio de Janeiro  92 non-null     object\n",
      " 1   Códigos                       92 non-null     int64 \n",
      "dtypes: int64(1), object(1)\n",
      "memory usage: 1.6+ KB\n"
     ]
    }
   ],
   "source": [
    "# Informacoes\n",
    "Dados_IBGE.info()"
   ]
  },
  {
   "cell_type": "code",
   "execution_count": 7,
   "metadata": {},
   "outputs": [
    {
     "data": {
      "text/plain": [
       "Municípios do Rio de Janeiro    0\n",
       "Códigos                         0\n",
       "dtype: int64"
      ]
     },
     "execution_count": 7,
     "metadata": {},
     "output_type": "execute_result"
    }
   ],
   "source": [
    "# Verificando a existencia de dados nulos\n",
    "Dados_IBGE.isnull().sum()"
   ]
  },
  {
   "cell_type": "code",
   "execution_count": 8,
   "metadata": {},
   "outputs": [
    {
     "data": {
      "text/html": [
       "<div>\n",
       "<style scoped>\n",
       "    .dataframe tbody tr th:only-of-type {\n",
       "        vertical-align: middle;\n",
       "    }\n",
       "\n",
       "    .dataframe tbody tr th {\n",
       "        vertical-align: top;\n",
       "    }\n",
       "\n",
       "    .dataframe thead th {\n",
       "        text-align: right;\n",
       "    }\n",
       "</style>\n",
       "<table border=\"1\" class=\"dataframe\">\n",
       "  <thead>\n",
       "    <tr style=\"text-align: right;\">\n",
       "      <th></th>\n",
       "      <th>Municípios do Rio de Janeiro</th>\n",
       "      <th>Códigos</th>\n",
       "    </tr>\n",
       "  </thead>\n",
       "  <tbody>\n",
       "    <tr>\n",
       "      <th>0</th>\n",
       "      <td>Angra dos Reis</td>\n",
       "      <td>3300100</td>\n",
       "    </tr>\n",
       "    <tr>\n",
       "      <th>1</th>\n",
       "      <td>Aperibé</td>\n",
       "      <td>3300159</td>\n",
       "    </tr>\n",
       "    <tr>\n",
       "      <th>2</th>\n",
       "      <td>Araruama</td>\n",
       "      <td>3300209</td>\n",
       "    </tr>\n",
       "    <tr>\n",
       "      <th>3</th>\n",
       "      <td>Areal</td>\n",
       "      <td>3300225</td>\n",
       "    </tr>\n",
       "    <tr>\n",
       "      <th>4</th>\n",
       "      <td>Armação dos Búzios</td>\n",
       "      <td>3300233</td>\n",
       "    </tr>\n",
       "    <tr>\n",
       "      <th>5</th>\n",
       "      <td>Arraial do Cabo</td>\n",
       "      <td>3300258</td>\n",
       "    </tr>\n",
       "    <tr>\n",
       "      <th>6</th>\n",
       "      <td>Barra Mansa</td>\n",
       "      <td>3300407</td>\n",
       "    </tr>\n",
       "    <tr>\n",
       "      <th>7</th>\n",
       "      <td>Barra do Piraí</td>\n",
       "      <td>3300308</td>\n",
       "    </tr>\n",
       "    <tr>\n",
       "      <th>8</th>\n",
       "      <td>Belford Roxo</td>\n",
       "      <td>3300456</td>\n",
       "    </tr>\n",
       "    <tr>\n",
       "      <th>9</th>\n",
       "      <td>Bom Jardim</td>\n",
       "      <td>3300506</td>\n",
       "    </tr>\n",
       "  </tbody>\n",
       "</table>\n",
       "</div>"
      ],
      "text/plain": [
       "  Municípios do Rio de Janeiro  Códigos\n",
       "0               Angra dos Reis  3300100\n",
       "1                      Aperibé  3300159\n",
       "2                     Araruama  3300209\n",
       "3                        Areal  3300225\n",
       "4           Armação dos Búzios  3300233\n",
       "5              Arraial do Cabo  3300258\n",
       "6                  Barra Mansa  3300407\n",
       "7               Barra do Piraí  3300308\n",
       "8                 Belford Roxo  3300456\n",
       "9                   Bom Jardim  3300506"
      ]
     },
     "execution_count": 8,
     "metadata": {},
     "output_type": "execute_result"
    }
   ],
   "source": [
    "# Ja estava como DataFrame. Caso fosse necessario, colocariamos como DataFrame conforme abaixo.\n",
    "Dados_IBGE = pd.DataFrame(pd.read_html(url, match='Municípios do Rio de Janeiro')[0])\n",
    "Dados_IBGE.head(10)"
   ]
  },
  {
   "cell_type": "code",
   "execution_count": 9,
   "metadata": {},
   "outputs": [
    {
     "data": {
      "text/plain": [
       "pandas.core.frame.DataFrame"
      ]
     },
     "execution_count": 9,
     "metadata": {},
     "output_type": "execute_result"
    }
   ],
   "source": [
    "# Tipo DataFrame\n",
    "type(Dados_IBGE)"
   ]
  },
  {
   "cell_type": "code",
   "execution_count": 10,
   "metadata": {},
   "outputs": [
    {
     "data": {
      "text/html": [
       "<div>\n",
       "<style scoped>\n",
       "    .dataframe tbody tr th:only-of-type {\n",
       "        vertical-align: middle;\n",
       "    }\n",
       "\n",
       "    .dataframe tbody tr th {\n",
       "        vertical-align: top;\n",
       "    }\n",
       "\n",
       "    .dataframe thead th {\n",
       "        text-align: right;\n",
       "    }\n",
       "</style>\n",
       "<table border=\"1\" class=\"dataframe\">\n",
       "  <thead>\n",
       "    <tr style=\"text-align: right;\">\n",
       "      <th></th>\n",
       "      <th>nmMunic</th>\n",
       "      <th>codMunic</th>\n",
       "    </tr>\n",
       "  </thead>\n",
       "  <tbody>\n",
       "    <tr>\n",
       "      <th>0</th>\n",
       "      <td>Angra dos Reis</td>\n",
       "      <td>3300100</td>\n",
       "    </tr>\n",
       "    <tr>\n",
       "      <th>1</th>\n",
       "      <td>Aperibé</td>\n",
       "      <td>3300159</td>\n",
       "    </tr>\n",
       "    <tr>\n",
       "      <th>2</th>\n",
       "      <td>Araruama</td>\n",
       "      <td>3300209</td>\n",
       "    </tr>\n",
       "    <tr>\n",
       "      <th>3</th>\n",
       "      <td>Areal</td>\n",
       "      <td>3300225</td>\n",
       "    </tr>\n",
       "    <tr>\n",
       "      <th>4</th>\n",
       "      <td>Armação dos Búzios</td>\n",
       "      <td>3300233</td>\n",
       "    </tr>\n",
       "  </tbody>\n",
       "</table>\n",
       "</div>"
      ],
      "text/plain": [
       "              nmMunic  codMunic\n",
       "0      Angra dos Reis   3300100\n",
       "1             Aperibé   3300159\n",
       "2            Araruama   3300209\n",
       "3               Areal   3300225\n",
       "4  Armação dos Búzios   3300233"
      ]
     },
     "execution_count": 10,
     "metadata": {},
     "output_type": "execute_result"
    }
   ],
   "source": [
    "# Renomenado as colunas do DataFrame\n",
    "Dados_IBGE = Dados_IBGE.rename(columns={'Municípios do Rio de Janeiro':'nmMunic','Códigos':'codMunic'})\n",
    "Dados_IBGE.head()"
   ]
  },
  {
   "cell_type": "code",
   "execution_count": 11,
   "metadata": {},
   "outputs": [
    {
     "data": {
      "text/html": [
       "<div>\n",
       "<style scoped>\n",
       "    .dataframe tbody tr th:only-of-type {\n",
       "        vertical-align: middle;\n",
       "    }\n",
       "\n",
       "    .dataframe tbody tr th {\n",
       "        vertical-align: top;\n",
       "    }\n",
       "\n",
       "    .dataframe thead th {\n",
       "        text-align: right;\n",
       "    }\n",
       "</style>\n",
       "<table border=\"1\" class=\"dataframe\">\n",
       "  <thead>\n",
       "    <tr style=\"text-align: right;\">\n",
       "      <th></th>\n",
       "      <th>nmMunic</th>\n",
       "      <th>codMunic</th>\n",
       "    </tr>\n",
       "    <tr>\n",
       "      <th>idMunic</th>\n",
       "      <th></th>\n",
       "      <th></th>\n",
       "    </tr>\n",
       "  </thead>\n",
       "  <tbody>\n",
       "    <tr>\n",
       "      <th>0</th>\n",
       "      <td>Angra dos Reis</td>\n",
       "      <td>3300100</td>\n",
       "    </tr>\n",
       "    <tr>\n",
       "      <th>1</th>\n",
       "      <td>Aperibé</td>\n",
       "      <td>3300159</td>\n",
       "    </tr>\n",
       "    <tr>\n",
       "      <th>2</th>\n",
       "      <td>Araruama</td>\n",
       "      <td>3300209</td>\n",
       "    </tr>\n",
       "    <tr>\n",
       "      <th>3</th>\n",
       "      <td>Areal</td>\n",
       "      <td>3300225</td>\n",
       "    </tr>\n",
       "    <tr>\n",
       "      <th>4</th>\n",
       "      <td>Armação dos Búzios</td>\n",
       "      <td>3300233</td>\n",
       "    </tr>\n",
       "  </tbody>\n",
       "</table>\n",
       "</div>"
      ],
      "text/plain": [
       "                    nmMunic  codMunic\n",
       "idMunic                              \n",
       "0            Angra dos Reis   3300100\n",
       "1                   Aperibé   3300159\n",
       "2                  Araruama   3300209\n",
       "3                     Areal   3300225\n",
       "4        Armação dos Búzios   3300233"
      ]
     },
     "execution_count": 11,
     "metadata": {},
     "output_type": "execute_result"
    }
   ],
   "source": [
    "# Alterando o nome do Index que o pandas cria automaticamente\n",
    "# Ficou fora de ordem para diferenciar o que é index. O index fica embaixo\n",
    "Dados_IBGE.index.name = 'idMunic'\n",
    "Dados_IBGE.head()"
   ]
  },
  {
   "cell_type": "code",
   "execution_count": 12,
   "metadata": {},
   "outputs": [
    {
     "data": {
      "text/html": [
       "<div>\n",
       "<style scoped>\n",
       "    .dataframe tbody tr th:only-of-type {\n",
       "        vertical-align: middle;\n",
       "    }\n",
       "\n",
       "    .dataframe tbody tr th {\n",
       "        vertical-align: top;\n",
       "    }\n",
       "\n",
       "    .dataframe thead th {\n",
       "        text-align: right;\n",
       "    }\n",
       "</style>\n",
       "<table border=\"1\" class=\"dataframe\">\n",
       "  <thead>\n",
       "    <tr style=\"text-align: right;\">\n",
       "      <th></th>\n",
       "      <th>nmMunic</th>\n",
       "      <th>codMunic</th>\n",
       "    </tr>\n",
       "    <tr>\n",
       "      <th>idMunic</th>\n",
       "      <th></th>\n",
       "      <th></th>\n",
       "    </tr>\n",
       "  </thead>\n",
       "  <tbody>\n",
       "    <tr>\n",
       "      <th>1</th>\n",
       "      <td>Angra dos Reis</td>\n",
       "      <td>3300100</td>\n",
       "    </tr>\n",
       "    <tr>\n",
       "      <th>2</th>\n",
       "      <td>Aperibé</td>\n",
       "      <td>3300159</td>\n",
       "    </tr>\n",
       "    <tr>\n",
       "      <th>3</th>\n",
       "      <td>Araruama</td>\n",
       "      <td>3300209</td>\n",
       "    </tr>\n",
       "    <tr>\n",
       "      <th>4</th>\n",
       "      <td>Areal</td>\n",
       "      <td>3300225</td>\n",
       "    </tr>\n",
       "    <tr>\n",
       "      <th>5</th>\n",
       "      <td>Armação dos Búzios</td>\n",
       "      <td>3300233</td>\n",
       "    </tr>\n",
       "  </tbody>\n",
       "</table>\n",
       "</div>"
      ],
      "text/plain": [
       "                    nmMunic  codMunic\n",
       "idMunic                              \n",
       "1            Angra dos Reis   3300100\n",
       "2                   Aperibé   3300159\n",
       "3                  Araruama   3300209\n",
       "4                     Areal   3300225\n",
       "5        Armação dos Búzios   3300233"
      ]
     },
     "execution_count": 12,
     "metadata": {},
     "output_type": "execute_result"
    }
   ],
   "source": [
    "# Alterando o index para inciar em 1 ao inves de 0. O pandas cria o index automaticamente a partir do 0\n",
    "# Vai facilitar para inserir do Banco de Dados\n",
    "Dados_IBGE.index = Dados_IBGE.index + 1\n",
    "Dados_IBGE.head()"
   ]
  },
  {
   "cell_type": "code",
   "execution_count": 13,
   "metadata": {},
   "outputs": [
    {
     "data": {
      "text/html": [
       "<div>\n",
       "<style scoped>\n",
       "    .dataframe tbody tr th:only-of-type {\n",
       "        vertical-align: middle;\n",
       "    }\n",
       "\n",
       "    .dataframe tbody tr th {\n",
       "        vertical-align: top;\n",
       "    }\n",
       "\n",
       "    .dataframe thead th {\n",
       "        text-align: right;\n",
       "    }\n",
       "</style>\n",
       "<table border=\"1\" class=\"dataframe\">\n",
       "  <thead>\n",
       "    <tr style=\"text-align: right;\">\n",
       "      <th></th>\n",
       "      <th>nmMunic</th>\n",
       "      <th>codMunic</th>\n",
       "      <th>dtCarga</th>\n",
       "    </tr>\n",
       "    <tr>\n",
       "      <th>idMunic</th>\n",
       "      <th></th>\n",
       "      <th></th>\n",
       "      <th></th>\n",
       "    </tr>\n",
       "  </thead>\n",
       "  <tbody>\n",
       "    <tr>\n",
       "      <th>1</th>\n",
       "      <td>Angra dos Reis</td>\n",
       "      <td>3300100</td>\n",
       "      <td>08/04/2022 08:55</td>\n",
       "    </tr>\n",
       "    <tr>\n",
       "      <th>2</th>\n",
       "      <td>Aperibé</td>\n",
       "      <td>3300159</td>\n",
       "      <td>08/04/2022 08:55</td>\n",
       "    </tr>\n",
       "    <tr>\n",
       "      <th>3</th>\n",
       "      <td>Araruama</td>\n",
       "      <td>3300209</td>\n",
       "      <td>08/04/2022 08:55</td>\n",
       "    </tr>\n",
       "    <tr>\n",
       "      <th>4</th>\n",
       "      <td>Areal</td>\n",
       "      <td>3300225</td>\n",
       "      <td>08/04/2022 08:55</td>\n",
       "    </tr>\n",
       "    <tr>\n",
       "      <th>5</th>\n",
       "      <td>Armação dos Búzios</td>\n",
       "      <td>3300233</td>\n",
       "      <td>08/04/2022 08:55</td>\n",
       "    </tr>\n",
       "  </tbody>\n",
       "</table>\n",
       "</div>"
      ],
      "text/plain": [
       "                    nmMunic  codMunic           dtCarga\n",
       "idMunic                                                \n",
       "1            Angra dos Reis   3300100  08/04/2022 08:55\n",
       "2                   Aperibé   3300159  08/04/2022 08:55\n",
       "3                  Araruama   3300209  08/04/2022 08:55\n",
       "4                     Areal   3300225  08/04/2022 08:55\n",
       "5        Armação dos Búzios   3300233  08/04/2022 08:55"
      ]
     },
     "execution_count": 13,
     "metadata": {},
     "output_type": "execute_result"
    }
   ],
   "source": [
    "# Adicionando uma coluna de data e hora da carga. Colocará a hora atual do sistema\n",
    "Dados_IBGE['dtCarga'] = datetime.today().strftime('%d/%m/%Y %H:%M')\n",
    "Dados_IBGE.head()"
   ]
  },
  {
   "cell_type": "code",
   "execution_count": 14,
   "metadata": {},
   "outputs": [
    {
     "name": "stdout",
     "output_type": "stream",
     "text": [
      "<class 'pandas.core.frame.DataFrame'>\n",
      "RangeIndex: 92 entries, 1 to 92\n",
      "Data columns (total 3 columns):\n",
      " #   Column    Non-Null Count  Dtype \n",
      "---  ------    --------------  ----- \n",
      " 0   nmMunic   92 non-null     object\n",
      " 1   codMunic  92 non-null     int64 \n",
      " 2   dtCarga   92 non-null     object\n",
      "dtypes: int64(1), object(2)\n",
      "memory usage: 2.3+ KB\n"
     ]
    }
   ],
   "source": [
    "# Informacoes\n",
    "Dados_IBGE.info()"
   ]
  },
  {
   "cell_type": "markdown",
   "metadata": {},
   "source": [
    "### CRIANDO O BANCO DE DADOS ODS"
   ]
  },
  {
   "cell_type": "code",
   "execution_count": 14,
   "metadata": {},
   "outputs": [
    {
     "name": "stdout",
     "output_type": "stream",
     "text": [
      "Bancos de dados já existem!\n"
     ]
    }
   ],
   "source": [
    "# Manipulando o sistema de arquivos no Windows\n",
    "endereco = Path('E:\\\\Projetos\\\\Python\\\\08 - Prof Bonel\\\\Python Integracao Dados com SQL\\\\')\n",
    "\n",
    "BDODS = endereco / \"pascoaODS.db\"\n",
    "BDDW = endereco / \"pascoaDW.db\"\n",
    "\n",
    "if endereco.exists():\n",
    "    if (BDODS.exists() and BDDW.exists()):\n",
    "        print('Bancos de dados já existem!')\n",
    "    else:\n",
    "        BDODS.touch()\n",
    "        BDDW.touch()\n",
    "        print('Bancos de dados criados!')\n",
    "else:\n",
    "    print('Endereço não existe! Favor, verificar!')\n",
    "        "
   ]
  },
  {
   "cell_type": "code",
   "execution_count": 15,
   "metadata": {},
   "outputs": [
    {
     "name": "stdout",
     "output_type": "stream",
     "text": [
      "01 - WebScrapingDadosIBGEdoRJ.ipynb\n",
      "pascoaDW.db\n",
      "pascoaODS.db\n"
     ]
    }
   ],
   "source": [
    "# Listando os arquivos na pasta\n",
    "!ls"
   ]
  },
  {
   "cell_type": "markdown",
   "metadata": {},
   "source": [
    "### MANIPULANDO OS BANCOS DE DADOS CRIADOS\n",
    "#### SQLite"
   ]
  },
  {
   "cell_type": "code",
   "execution_count": 16,
   "metadata": {},
   "outputs": [
    {
     "name": "stdout",
     "output_type": "stream",
     "text": [
      "Carga do BDODS concluída!\n"
     ]
    }
   ],
   "source": [
    "# CONEXAO COM O BANCO DE DADOS SQLite\n",
    "# Conectando no BDODS\n",
    "conexaoODS = sql.connect(BDODS)\n",
    "\n",
    "# Criando a tabela tbLogMunic e carregando os dados do DataFrame Dados_IBGE\n",
    "# Sera uma tabela para armazenar o historico. A cada execucao fara append ao final da base de dados\n",
    "Dados_IBGE.to_sql('tbLogMunic',conexaoODS,if_exists=\"append\") # adicionara novos dados\n",
    "\n",
    "#Confirmando a transacao\n",
    "conexaoODS.commit()\n",
    "\n",
    "#Fechando a conexao\n",
    "conexaoODS.close()\n",
    "\n",
    "print('Carga do BDODS concluída!')"
   ]
  },
  {
   "cell_type": "code",
   "execution_count": 17,
   "metadata": {},
   "outputs": [
    {
     "name": "stdout",
     "output_type": "stream",
     "text": [
      "Carga do DW concluída!\n"
     ]
    }
   ],
   "source": [
    "#Conectando no BDDW\n",
    "conexaoDW = sql.connect(BDDW)\n",
    "\n",
    "#Selecionando somente as colunas para criacao da tabela dMunicipio\n",
    "Dados_IBGE = Dados_IBGE[['nmMunic','codMunic']]\n",
    "\n",
    "#Criando a tabela dMunicipio e carregando os dados do DataFrame Dados_IBGE\n",
    "# Sempre que for executado o script, sera feita a substituicao dos dados, para que fiquem atualizados\n",
    "Dados_IBGE.to_sql('dMunicipio',conexaoDW,if_exists=\"replace\")\n",
    "\n",
    "#Confirmando a transacao\n",
    "conexaoDW.commit()\n",
    "\n",
    "#Fechando a conexao\n",
    "conexaoDW.close()\n",
    "\n",
    "print('Carga do DW concluída!')"
   ]
  },
  {
   "cell_type": "code",
   "execution_count": null,
   "metadata": {},
   "outputs": [],
   "source": []
  }
 ],
 "metadata": {
  "kernelspec": {
   "display_name": "Python 3",
   "language": "python",
   "name": "python3"
  },
  "language_info": {
   "codemirror_mode": {
    "name": "ipython",
    "version": 3
   },
   "file_extension": ".py",
   "mimetype": "text/x-python",
   "name": "python",
   "nbconvert_exporter": "python",
   "pygments_lexer": "ipython3",
   "version": "3.8.5"
  }
 },
 "nbformat": 4,
 "nbformat_minor": 4
}
