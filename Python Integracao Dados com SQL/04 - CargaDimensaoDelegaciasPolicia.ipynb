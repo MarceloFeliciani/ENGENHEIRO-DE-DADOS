{
 "cells": [
  {
   "cell_type": "markdown",
   "metadata": {},
   "source": [
    "## PROJETO PÁSCOA COM DADOS\n",
    "##### Apoiei o Projeto Dado Humanizado do Prof. Cláudio Bonel. Foi uma iniciativa chamada \"Páscoa com Dados\", que entregou ovos de páscoa para 100 crianças do Complexo do Alemão/RJ em 2022. "
   ]
  },
  {
   "cell_type": "markdown",
   "metadata": {},
   "source": [
    "### CARGA DOS DADOS DE CADASTRO DAS DELEGACIAS DE POLÍCIA"
   ]
  },
  {
   "cell_type": "code",
   "execution_count": 97,
   "metadata": {},
   "outputs": [],
   "source": [
    "# Importando as bibliotecas necessarias\n",
    "import pandas as pd\n",
    "from datetime import datetime\n",
    "from pathlib import Path\n",
    "import sqlite3 as sql"
   ]
  },
  {
   "cell_type": "code",
   "execution_count": 98,
   "metadata": {},
   "outputs": [
    {
     "data": {
      "text/plain": [
       "'11/04/2022 19:44'"
      ]
     },
     "execution_count": 98,
     "metadata": {},
     "output_type": "execute_result"
    }
   ],
   "source": [
    "dtCarga = datetime.today().strftime('%d/%m/%Y %H:%M')\n",
    "dtCarga"
   ]
  },
  {
   "cell_type": "code",
   "execution_count": 99,
   "metadata": {},
   "outputs": [
    {
     "data": {
      "text/html": [
       "<div>\n",
       "<style scoped>\n",
       "    .dataframe tbody tr th:only-of-type {\n",
       "        vertical-align: middle;\n",
       "    }\n",
       "\n",
       "    .dataframe tbody tr th {\n",
       "        vertical-align: top;\n",
       "    }\n",
       "\n",
       "    .dataframe thead th {\n",
       "        text-align: right;\n",
       "    }\n",
       "</style>\n",
       "<table border=\"1\" class=\"dataframe\">\n",
       "  <thead>\n",
       "    <tr style=\"text-align: right;\">\n",
       "      <th></th>\n",
       "      <th>COD_DP</th>\n",
       "      <th>NM_DP</th>\n",
       "      <th>Endereço</th>\n",
       "    </tr>\n",
       "  </thead>\n",
       "  <tbody>\n",
       "    <tr>\n",
       "      <th>0</th>\n",
       "      <td>1</td>\n",
       "      <td>001ª DP - Praça Mauá</td>\n",
       "      <td>Atendendo provisoriamente na sede da 4ª DP - P...</td>\n",
       "    </tr>\n",
       "    <tr>\n",
       "      <th>1</th>\n",
       "      <td>4</td>\n",
       "      <td>004ª DP - Praça da República</td>\n",
       "      <td>Av. Presidente Vargas, 1100 - Centro, Rio de J...</td>\n",
       "    </tr>\n",
       "    <tr>\n",
       "      <th>2</th>\n",
       "      <td>5</td>\n",
       "      <td>005ª DP - Mem de Sá</td>\n",
       "      <td>Avenida Gomes Freire, 320 - Centro, Rio de Jan...</td>\n",
       "    </tr>\n",
       "    <tr>\n",
       "      <th>3</th>\n",
       "      <td>6</td>\n",
       "      <td>006ª DP - Cidade Nova</td>\n",
       "      <td>Rua Professor Clementino Fraga, 77 - Centro, R...</td>\n",
       "    </tr>\n",
       "    <tr>\n",
       "      <th>4</th>\n",
       "      <td>7</td>\n",
       "      <td>007ª DP - Santa Teresa</td>\n",
       "      <td>Rua Francisco de Castro, 5 - Santa Teresa, Rio...</td>\n",
       "    </tr>\n",
       "    <tr>\n",
       "      <th>5</th>\n",
       "      <td>9</td>\n",
       "      <td>009ª DP - Catete</td>\n",
       "      <td>Rua Pedro Américo, 1 - Catete, Rio de Janeiro ...</td>\n",
       "    </tr>\n",
       "    <tr>\n",
       "      <th>6</th>\n",
       "      <td>10</td>\n",
       "      <td>010ª DP - Botafogo</td>\n",
       "      <td>Rua Bambina, 140 - Botafogo, Rio de Janeiro - ...</td>\n",
       "    </tr>\n",
       "    <tr>\n",
       "      <th>7</th>\n",
       "      <td>11</td>\n",
       "      <td>011ª DP - Rocinha</td>\n",
       "      <td>Rua Bertha Lutz, 80 - Gávea, Rio de Janeiro - ...</td>\n",
       "    </tr>\n",
       "    <tr>\n",
       "      <th>8</th>\n",
       "      <td>12</td>\n",
       "      <td>012ª DP - Copacabana</td>\n",
       "      <td>Rua Hilário de Gouveia, 102 - Copacabana, Rio ...</td>\n",
       "    </tr>\n",
       "    <tr>\n",
       "      <th>9</th>\n",
       "      <td>13</td>\n",
       "      <td>013ª DP - Ipanema</td>\n",
       "      <td>Avenida Nossa Senhora de Copacabana, 1260 - Co...</td>\n",
       "    </tr>\n",
       "  </tbody>\n",
       "</table>\n",
       "</div>"
      ],
      "text/plain": [
       "   COD_DP                         NM_DP  \\\n",
       "0       1          001ª DP - Praça Mauá   \n",
       "1       4  004ª DP - Praça da República   \n",
       "2       5           005ª DP - Mem de Sá   \n",
       "3       6         006ª DP - Cidade Nova   \n",
       "4       7        007ª DP - Santa Teresa   \n",
       "5       9              009ª DP - Catete   \n",
       "6      10            010ª DP - Botafogo   \n",
       "7      11             011ª DP - Rocinha   \n",
       "8      12          012ª DP - Copacabana   \n",
       "9      13             013ª DP - Ipanema   \n",
       "\n",
       "                                            Endereço  \n",
       "0  Atendendo provisoriamente na sede da 4ª DP - P...  \n",
       "1  Av. Presidente Vargas, 1100 - Centro, Rio de J...  \n",
       "2  Avenida Gomes Freire, 320 - Centro, Rio de Jan...  \n",
       "3  Rua Professor Clementino Fraga, 77 - Centro, R...  \n",
       "4  Rua Francisco de Castro, 5 - Santa Teresa, Rio...  \n",
       "5  Rua Pedro Américo, 1 - Catete, Rio de Janeiro ...  \n",
       "6  Rua Bambina, 140 - Botafogo, Rio de Janeiro - ...  \n",
       "7  Rua Bertha Lutz, 80 - Gávea, Rio de Janeiro - ...  \n",
       "8  Rua Hilário de Gouveia, 102 - Copacabana, Rio ...  \n",
       "9  Avenida Nossa Senhora de Copacabana, 1260 - Co...  "
      ]
     },
     "execution_count": 99,
     "metadata": {},
     "output_type": "execute_result"
    }
   ],
   "source": [
    "# Definindo o endereço físico do arquivo CSV\n",
    "LocalArquivo = \"E:\\\\Projetos\\\\Python\\\\08 - Prof Bonel\\\\Python Integracao Dados com SQL\\\\\"\n",
    "\n",
    "# Criando DataFrame com os logs dos dados das Delegacias de Polícia\n",
    "tbLogDP = pd.DataFrame(pd.read_csv(LocalArquivo + \"DP.csv\"))\n",
    "\n",
    "tbLogDP.head(10)"
   ]
  },
  {
   "cell_type": "code",
   "execution_count": 100,
   "metadata": {
    "scrolled": true
   },
   "outputs": [
    {
     "data": {
      "text/html": [
       "<div>\n",
       "<style scoped>\n",
       "    .dataframe tbody tr th:only-of-type {\n",
       "        vertical-align: middle;\n",
       "    }\n",
       "\n",
       "    .dataframe tbody tr th {\n",
       "        vertical-align: top;\n",
       "    }\n",
       "\n",
       "    .dataframe thead th {\n",
       "        text-align: right;\n",
       "    }\n",
       "</style>\n",
       "<table border=\"1\" class=\"dataframe\">\n",
       "  <thead>\n",
       "    <tr style=\"text-align: right;\">\n",
       "      <th></th>\n",
       "      <th>COD_DP</th>\n",
       "      <th>NM_DP</th>\n",
       "      <th>Endereço</th>\n",
       "      <th>dtCarga</th>\n",
       "    </tr>\n",
       "  </thead>\n",
       "  <tbody>\n",
       "    <tr>\n",
       "      <th>0</th>\n",
       "      <td>1</td>\n",
       "      <td>001ª DP - Praça Mauá</td>\n",
       "      <td>Atendendo provisoriamente na sede da 4ª DP - P...</td>\n",
       "      <td>11/04/2022 19:44</td>\n",
       "    </tr>\n",
       "    <tr>\n",
       "      <th>1</th>\n",
       "      <td>4</td>\n",
       "      <td>004ª DP - Praça da República</td>\n",
       "      <td>Av. Presidente Vargas, 1100 - Centro, Rio de J...</td>\n",
       "      <td>11/04/2022 19:44</td>\n",
       "    </tr>\n",
       "    <tr>\n",
       "      <th>2</th>\n",
       "      <td>5</td>\n",
       "      <td>005ª DP - Mem de Sá</td>\n",
       "      <td>Avenida Gomes Freire, 320 - Centro, Rio de Jan...</td>\n",
       "      <td>11/04/2022 19:44</td>\n",
       "    </tr>\n",
       "    <tr>\n",
       "      <th>3</th>\n",
       "      <td>6</td>\n",
       "      <td>006ª DP - Cidade Nova</td>\n",
       "      <td>Rua Professor Clementino Fraga, 77 - Centro, R...</td>\n",
       "      <td>11/04/2022 19:44</td>\n",
       "    </tr>\n",
       "    <tr>\n",
       "      <th>4</th>\n",
       "      <td>7</td>\n",
       "      <td>007ª DP - Santa Teresa</td>\n",
       "      <td>Rua Francisco de Castro, 5 - Santa Teresa, Rio...</td>\n",
       "      <td>11/04/2022 19:44</td>\n",
       "    </tr>\n",
       "  </tbody>\n",
       "</table>\n",
       "</div>"
      ],
      "text/plain": [
       "   COD_DP                         NM_DP  \\\n",
       "0       1          001ª DP - Praça Mauá   \n",
       "1       4  004ª DP - Praça da República   \n",
       "2       5           005ª DP - Mem de Sá   \n",
       "3       6         006ª DP - Cidade Nova   \n",
       "4       7        007ª DP - Santa Teresa   \n",
       "\n",
       "                                            Endereço           dtCarga  \n",
       "0  Atendendo provisoriamente na sede da 4ª DP - P...  11/04/2022 19:44  \n",
       "1  Av. Presidente Vargas, 1100 - Centro, Rio de J...  11/04/2022 19:44  \n",
       "2  Avenida Gomes Freire, 320 - Centro, Rio de Jan...  11/04/2022 19:44  \n",
       "3  Rua Professor Clementino Fraga, 77 - Centro, R...  11/04/2022 19:44  \n",
       "4  Rua Francisco de Castro, 5 - Santa Teresa, Rio...  11/04/2022 19:44  "
      ]
     },
     "execution_count": 100,
     "metadata": {},
     "output_type": "execute_result"
    }
   ],
   "source": [
    "# Criando coluna com a data da carga\n",
    "tbLogDP['dtCarga'] = dtCarga\n",
    "tbLogDP.head()"
   ]
  },
  {
   "cell_type": "code",
   "execution_count": 45,
   "metadata": {},
   "outputs": [],
   "source": [
    "#selecionando a coluna COD_DP como novo index\n",
    "#tbLogDP = tbLogDP.set_index(\"COD_DP\")\n",
    "# Foi deixado sem transformar o COD_DP em index por que dá problema no insert. Deixar o index que o pandas cria automaticamente e nao será enviado para o banco"
   ]
  },
  {
   "cell_type": "code",
   "execution_count": 101,
   "metadata": {},
   "outputs": [
    {
     "data": {
      "text/plain": [
       "(137, 4)"
      ]
     },
     "execution_count": 101,
     "metadata": {},
     "output_type": "execute_result"
    }
   ],
   "source": [
    "# Dimensao dos dados\n",
    "tbLogDP.shape"
   ]
  },
  {
   "cell_type": "code",
   "execution_count": 102,
   "metadata": {},
   "outputs": [
    {
     "name": "stdout",
     "output_type": "stream",
     "text": [
      "<class 'pandas.core.frame.DataFrame'>\n",
      "RangeIndex: 137 entries, 0 to 136\n",
      "Data columns (total 4 columns):\n",
      " #   Column    Non-Null Count  Dtype \n",
      "---  ------    --------------  ----- \n",
      " 0   COD_DP    137 non-null    int64 \n",
      " 1   NM_DP     137 non-null    object\n",
      " 2   Endereço  137 non-null    object\n",
      " 3   dtCarga   137 non-null    object\n",
      "dtypes: int64(1), object(3)\n",
      "memory usage: 4.4+ KB\n"
     ]
    }
   ],
   "source": [
    "# Informacoes\n",
    "tbLogDP.info()"
   ]
  },
  {
   "cell_type": "code",
   "execution_count": 103,
   "metadata": {},
   "outputs": [
    {
     "data": {
      "text/plain": [
       "COD_DP      0\n",
       "NM_DP       0\n",
       "Endereço    0\n",
       "dtCarga     0\n",
       "dtype: int64"
      ]
     },
     "execution_count": 103,
     "metadata": {},
     "output_type": "execute_result"
    }
   ],
   "source": [
    "# Verificando a existencia de dados nulos\n",
    "tbLogDP.isnull().sum()"
   ]
  },
  {
   "cell_type": "markdown",
   "metadata": {},
   "source": [
    "### CARGA DOS DADOS DE CADASTRO DOS RESPONSÁVEIS PELAS DELEGACIAS DE POLÍCIA"
   ]
  },
  {
   "cell_type": "code",
   "execution_count": 104,
   "metadata": {},
   "outputs": [
    {
     "data": {
      "text/html": [
       "<div>\n",
       "<style scoped>\n",
       "    .dataframe tbody tr th:only-of-type {\n",
       "        vertical-align: middle;\n",
       "    }\n",
       "\n",
       "    .dataframe tbody tr th {\n",
       "        vertical-align: top;\n",
       "    }\n",
       "\n",
       "    .dataframe thead th {\n",
       "        text-align: right;\n",
       "    }\n",
       "</style>\n",
       "<table border=\"1\" class=\"dataframe\">\n",
       "  <thead>\n",
       "    <tr style=\"text-align: right;\">\n",
       "      <th></th>\n",
       "      <th>COD_DP</th>\n",
       "      <th>Responsavel</th>\n",
       "    </tr>\n",
       "  </thead>\n",
       "  <tbody>\n",
       "    <tr>\n",
       "      <th>0</th>\n",
       "      <td>1</td>\n",
       "      <td>Delegado de Polícia José Luiz Silva Duarte</td>\n",
       "    </tr>\n",
       "    <tr>\n",
       "      <th>1</th>\n",
       "      <td>4</td>\n",
       "      <td>Delegada de Polícia Patricia de Paiva Aguiar</td>\n",
       "    </tr>\n",
       "    <tr>\n",
       "      <th>2</th>\n",
       "      <td>5</td>\n",
       "      <td>Delegado de Polícia Bruno Gilaberte Freitas</td>\n",
       "    </tr>\n",
       "    <tr>\n",
       "      <th>3</th>\n",
       "      <td>6</td>\n",
       "      <td>Delegado de Polícia Fabio Luiz Da Silva Souza</td>\n",
       "    </tr>\n",
       "    <tr>\n",
       "      <th>4</th>\n",
       "      <td>7</td>\n",
       "      <td>Delegado de Polícia Carlos Alberto Meirelles D...</td>\n",
       "    </tr>\n",
       "  </tbody>\n",
       "</table>\n",
       "</div>"
      ],
      "text/plain": [
       "   COD_DP                                        Responsavel\n",
       "0       1         Delegado de Polícia José Luiz Silva Duarte\n",
       "1       4       Delegada de Polícia Patricia de Paiva Aguiar\n",
       "2       5        Delegado de Polícia Bruno Gilaberte Freitas\n",
       "3       6      Delegado de Polícia Fabio Luiz Da Silva Souza\n",
       "4       7  Delegado de Polícia Carlos Alberto Meirelles D..."
      ]
     },
     "execution_count": 104,
     "metadata": {},
     "output_type": "execute_result"
    }
   ],
   "source": [
    "# Criando DataFrame com os dados dos responsáveis pelas DPs\n",
    "tbLogRespDP = pd.DataFrame(pd.read_csv(LocalArquivo + \"ResponsavelDP.csv\"))\n",
    "tbLogRespDP.head()"
   ]
  },
  {
   "cell_type": "code",
   "execution_count": 105,
   "metadata": {},
   "outputs": [
    {
     "data": {
      "text/html": [
       "<div>\n",
       "<style scoped>\n",
       "    .dataframe tbody tr th:only-of-type {\n",
       "        vertical-align: middle;\n",
       "    }\n",
       "\n",
       "    .dataframe tbody tr th {\n",
       "        vertical-align: top;\n",
       "    }\n",
       "\n",
       "    .dataframe thead th {\n",
       "        text-align: right;\n",
       "    }\n",
       "</style>\n",
       "<table border=\"1\" class=\"dataframe\">\n",
       "  <thead>\n",
       "    <tr style=\"text-align: right;\">\n",
       "      <th></th>\n",
       "      <th>COD_DP</th>\n",
       "      <th>Responsavel</th>\n",
       "      <th>dtCarga</th>\n",
       "    </tr>\n",
       "  </thead>\n",
       "  <tbody>\n",
       "    <tr>\n",
       "      <th>0</th>\n",
       "      <td>1</td>\n",
       "      <td>Delegado de Polícia José Luiz Silva Duarte</td>\n",
       "      <td>11/04/2022 19:44</td>\n",
       "    </tr>\n",
       "    <tr>\n",
       "      <th>1</th>\n",
       "      <td>4</td>\n",
       "      <td>Delegada de Polícia Patricia de Paiva Aguiar</td>\n",
       "      <td>11/04/2022 19:44</td>\n",
       "    </tr>\n",
       "    <tr>\n",
       "      <th>2</th>\n",
       "      <td>5</td>\n",
       "      <td>Delegado de Polícia Bruno Gilaberte Freitas</td>\n",
       "      <td>11/04/2022 19:44</td>\n",
       "    </tr>\n",
       "    <tr>\n",
       "      <th>3</th>\n",
       "      <td>6</td>\n",
       "      <td>Delegado de Polícia Fabio Luiz Da Silva Souza</td>\n",
       "      <td>11/04/2022 19:44</td>\n",
       "    </tr>\n",
       "    <tr>\n",
       "      <th>4</th>\n",
       "      <td>7</td>\n",
       "      <td>Delegado de Polícia Carlos Alberto Meirelles D...</td>\n",
       "      <td>11/04/2022 19:44</td>\n",
       "    </tr>\n",
       "  </tbody>\n",
       "</table>\n",
       "</div>"
      ],
      "text/plain": [
       "   COD_DP                                        Responsavel           dtCarga\n",
       "0       1         Delegado de Polícia José Luiz Silva Duarte  11/04/2022 19:44\n",
       "1       4       Delegada de Polícia Patricia de Paiva Aguiar  11/04/2022 19:44\n",
       "2       5        Delegado de Polícia Bruno Gilaberte Freitas  11/04/2022 19:44\n",
       "3       6      Delegado de Polícia Fabio Luiz Da Silva Souza  11/04/2022 19:44\n",
       "4       7  Delegado de Polícia Carlos Alberto Meirelles D...  11/04/2022 19:44"
      ]
     },
     "execution_count": 105,
     "metadata": {},
     "output_type": "execute_result"
    }
   ],
   "source": [
    "# Criando coluna com a data da carga\n",
    "tbLogRespDP['dtCarga'] = dtCarga\n",
    "tbLogRespDP.head()"
   ]
  },
  {
   "cell_type": "code",
   "execution_count": null,
   "metadata": {},
   "outputs": [],
   "source": [
    "# selecionando a coluna COD_DP como novo index\n",
    "#tbLogRespDP = tbLogRespDP.set_index(\"COD_DP\")\n",
    "# Foi deixado sem transformar o COD_DP em index por que dá problema no insert. Deixar o index que o pandas cria automaticamente e nao será enviado para o banco"
   ]
  },
  {
   "cell_type": "code",
   "execution_count": 106,
   "metadata": {},
   "outputs": [
    {
     "data": {
      "text/plain": [
       "(137, 3)"
      ]
     },
     "execution_count": 106,
     "metadata": {},
     "output_type": "execute_result"
    }
   ],
   "source": [
    "# Dimensao dos dados\n",
    "tbLogRespDP.shape"
   ]
  },
  {
   "cell_type": "code",
   "execution_count": 107,
   "metadata": {},
   "outputs": [
    {
     "name": "stdout",
     "output_type": "stream",
     "text": [
      "<class 'pandas.core.frame.DataFrame'>\n",
      "RangeIndex: 137 entries, 0 to 136\n",
      "Data columns (total 3 columns):\n",
      " #   Column       Non-Null Count  Dtype \n",
      "---  ------       --------------  ----- \n",
      " 0   COD_DP       137 non-null    int64 \n",
      " 1   Responsavel  137 non-null    object\n",
      " 2   dtCarga      137 non-null    object\n",
      "dtypes: int64(1), object(2)\n",
      "memory usage: 3.3+ KB\n"
     ]
    }
   ],
   "source": [
    "# Informacoes\n",
    "tbLogRespDP.info()"
   ]
  },
  {
   "cell_type": "code",
   "execution_count": 108,
   "metadata": {},
   "outputs": [
    {
     "data": {
      "text/plain": [
       "COD_DP         0\n",
       "Responsavel    0\n",
       "dtCarga        0\n",
       "dtype: int64"
      ]
     },
     "execution_count": 108,
     "metadata": {},
     "output_type": "execute_result"
    }
   ],
   "source": [
    "# Verificando a existencia de dados nulos\n",
    "tbLogRespDP.isnull().sum()"
   ]
  },
  {
   "cell_type": "markdown",
   "metadata": {},
   "source": [
    "### CONECTANDO NO ODS E INFORMANDO AO PYTHON QUE USAREI LINGUAGEM SQL"
   ]
  },
  {
   "cell_type": "code",
   "execution_count": 109,
   "metadata": {},
   "outputs": [],
   "source": [
    "# Manipulando o sistema de arquivos no Windows\n",
    "endereco = Path('E:\\\\Projetos\\\\Python\\\\08 - Prof Bonel\\\\Python Integracao Dados com SQL\\\\')\n",
    "\n",
    "BDODS = endereco / \"pascoaODS.db\"\n",
    "BDDW = endereco / \"pascoaDW.db\"\n",
    "\n",
    "# Conectando no BDODS\n",
    "conexaoODS = sql.connect(BDODS)\n",
    "\n",
    "# Definição de manipulação de dados em SQL. Métdo cursor permite manipular dados no SQL\n",
    "SQL_ODS = conexaoODS.cursor()"
   ]
  },
  {
   "cell_type": "markdown",
   "metadata": {},
   "source": [
    "### INSERINDO DADOS DAS DELEGACIAS DE POLÍCIA, NO SQLITE (ODS)"
   ]
  },
  {
   "cell_type": "code",
   "execution_count": 110,
   "metadata": {},
   "outputs": [
    {
     "name": "stdout",
     "output_type": "stream",
     "text": [
      "Iniciando a inserção de dados na tabela tbLogDP.\n",
      "-------------------------------------------------\n",
      "Carga finalizada! 137 registros inseridos na tbLogDP!\n"
     ]
    }
   ],
   "source": [
    "# Inserindo registros na tabela tbLogDP\n",
    "print(\"Iniciando a inserção de dados na tabela tbLogDP.\")\n",
    "print(\"-------------------------------------------------\")\n",
    "\n",
    "# executemany método para executar vários registros para uma tabela.\n",
    "# executemany só funciona se os dados estiverem numa lista\n",
    "# tbLogDP.values.tolist()  transformando o dataframe numa lista\n",
    "# VALUES (?,?,?,?)  receberá os parâmetros do dataframe tbLogDP\n",
    "\n",
    "SQL_ODS.executemany('''INSERT INTO tbLogDP (codDP,nmDP,endereco,dtCarga) VALUES (?,?,?,?)''',tbLogDP.values.tolist())\n",
    "\n",
    "#confirmar a transação\n",
    "conexaoODS.commit()\n",
    "\n",
    "#Exibir uma mensagem de conclusão de carga\n",
    "print(\"Carga finalizada!\",len(tbLogDP), \"registros inseridos na tbLogDP!\") # len vai contar a qtd de registros inseridos"
   ]
  },
  {
   "cell_type": "markdown",
   "metadata": {},
   "source": [
    "### INSERINDO DADOS DOS RESPONSÁVEIS PELAS DELEGACIAS DE POLÍCIA, NO SQLITE (ODS)"
   ]
  },
  {
   "cell_type": "code",
   "execution_count": 111,
   "metadata": {},
   "outputs": [
    {
     "name": "stdout",
     "output_type": "stream",
     "text": [
      "Iniciando a inserção de dados na tabela tbLogRespDP.\n",
      "-------------------------------------------------\n",
      "Carga finalizada! 137 registros inseridos na tbLogDP!\n"
     ]
    }
   ],
   "source": [
    "#Inserindo registros na tabela tbLogDP\n",
    "print(\"Iniciando a inserção de dados na tabela tbLogRespDP.\")\n",
    "print(\"-------------------------------------------------\")\n",
    "\n",
    "SQL_ODS.executemany('''INSERT INTO tbLogRespDP (codDP,nmResponsavel,dtCarga) VALUES (?,?,?)''',tbLogRespDP.values.tolist())\n",
    "\n",
    "#confirmar a transação\n",
    "conexaoODS.commit()\n",
    "\n",
    "#Exibir uma mensagem de conclusão de carga\n",
    "print(\"Carga finalizada!\",len(tbLogRespDP), \"registros inseridos na tbLogDP!\")"
   ]
  },
  {
   "cell_type": "markdown",
   "metadata": {},
   "source": [
    "### VALIDANDO CARGA DOS DADOS DE DP E DE RESPONSÁVEL DP"
   ]
  },
  {
   "cell_type": "code",
   "execution_count": 61,
   "metadata": {},
   "outputs": [
    {
     "data": {
      "text/html": [
       "<div>\n",
       "<style scoped>\n",
       "    .dataframe tbody tr th:only-of-type {\n",
       "        vertical-align: middle;\n",
       "    }\n",
       "\n",
       "    .dataframe tbody tr th {\n",
       "        vertical-align: top;\n",
       "    }\n",
       "\n",
       "    .dataframe thead th {\n",
       "        text-align: right;\n",
       "    }\n",
       "</style>\n",
       "<table border=\"1\" class=\"dataframe\">\n",
       "  <thead>\n",
       "    <tr style=\"text-align: right;\">\n",
       "      <th></th>\n",
       "      <th>codDP</th>\n",
       "      <th>nmDP</th>\n",
       "      <th>endereco</th>\n",
       "      <th>dtCarga</th>\n",
       "    </tr>\n",
       "  </thead>\n",
       "  <tbody>\n",
       "    <tr>\n",
       "      <th>0</th>\n",
       "      <td>1</td>\n",
       "      <td>001ª DP - Praça Mauá</td>\n",
       "      <td>Atendendo provisoriamente na sede da 4ª DP - P...</td>\n",
       "      <td>11/04/2022 18:43</td>\n",
       "    </tr>\n",
       "    <tr>\n",
       "      <th>1</th>\n",
       "      <td>4</td>\n",
       "      <td>004ª DP - Praça da República</td>\n",
       "      <td>Av. Presidente Vargas, 1100 - Centro, Rio de J...</td>\n",
       "      <td>11/04/2022 18:43</td>\n",
       "    </tr>\n",
       "    <tr>\n",
       "      <th>2</th>\n",
       "      <td>5</td>\n",
       "      <td>005ª DP - Mem de Sá</td>\n",
       "      <td>Avenida Gomes Freire, 320 - Centro, Rio de Jan...</td>\n",
       "      <td>11/04/2022 18:43</td>\n",
       "    </tr>\n",
       "    <tr>\n",
       "      <th>3</th>\n",
       "      <td>6</td>\n",
       "      <td>006ª DP - Cidade Nova</td>\n",
       "      <td>Rua Professor Clementino Fraga, 77 - Centro, R...</td>\n",
       "      <td>11/04/2022 18:43</td>\n",
       "    </tr>\n",
       "    <tr>\n",
       "      <th>4</th>\n",
       "      <td>7</td>\n",
       "      <td>007ª DP - Santa Teresa</td>\n",
       "      <td>Rua Francisco de Castro, 5 - Santa Teresa, Rio...</td>\n",
       "      <td>11/04/2022 18:43</td>\n",
       "    </tr>\n",
       "    <tr>\n",
       "      <th>5</th>\n",
       "      <td>9</td>\n",
       "      <td>009ª DP - Catete</td>\n",
       "      <td>Rua Pedro Américo, 1 - Catete, Rio de Janeiro ...</td>\n",
       "      <td>11/04/2022 18:43</td>\n",
       "    </tr>\n",
       "    <tr>\n",
       "      <th>6</th>\n",
       "      <td>10</td>\n",
       "      <td>010ª DP - Botafogo</td>\n",
       "      <td>Rua Bambina, 140 - Botafogo, Rio de Janeiro - ...</td>\n",
       "      <td>11/04/2022 18:43</td>\n",
       "    </tr>\n",
       "    <tr>\n",
       "      <th>7</th>\n",
       "      <td>11</td>\n",
       "      <td>011ª DP - Rocinha</td>\n",
       "      <td>Rua Bertha Lutz, 80 - Gávea, Rio de Janeiro - ...</td>\n",
       "      <td>11/04/2022 18:43</td>\n",
       "    </tr>\n",
       "    <tr>\n",
       "      <th>8</th>\n",
       "      <td>12</td>\n",
       "      <td>012ª DP - Copacabana</td>\n",
       "      <td>Rua Hilário de Gouveia, 102 - Copacabana, Rio ...</td>\n",
       "      <td>11/04/2022 18:43</td>\n",
       "    </tr>\n",
       "    <tr>\n",
       "      <th>9</th>\n",
       "      <td>13</td>\n",
       "      <td>013ª DP - Ipanema</td>\n",
       "      <td>Avenida Nossa Senhora de Copacabana, 1260 - Co...</td>\n",
       "      <td>11/04/2022 18:43</td>\n",
       "    </tr>\n",
       "  </tbody>\n",
       "</table>\n",
       "</div>"
      ],
      "text/plain": [
       "   codDP                          nmDP  \\\n",
       "0      1          001ª DP - Praça Mauá   \n",
       "1      4  004ª DP - Praça da República   \n",
       "2      5           005ª DP - Mem de Sá   \n",
       "3      6         006ª DP - Cidade Nova   \n",
       "4      7        007ª DP - Santa Teresa   \n",
       "5      9              009ª DP - Catete   \n",
       "6     10            010ª DP - Botafogo   \n",
       "7     11             011ª DP - Rocinha   \n",
       "8     12          012ª DP - Copacabana   \n",
       "9     13             013ª DP - Ipanema   \n",
       "\n",
       "                                            endereco           dtCarga  \n",
       "0  Atendendo provisoriamente na sede da 4ª DP - P...  11/04/2022 18:43  \n",
       "1  Av. Presidente Vargas, 1100 - Centro, Rio de J...  11/04/2022 18:43  \n",
       "2  Avenida Gomes Freire, 320 - Centro, Rio de Jan...  11/04/2022 18:43  \n",
       "3  Rua Professor Clementino Fraga, 77 - Centro, R...  11/04/2022 18:43  \n",
       "4  Rua Francisco de Castro, 5 - Santa Teresa, Rio...  11/04/2022 18:43  \n",
       "5  Rua Pedro Américo, 1 - Catete, Rio de Janeiro ...  11/04/2022 18:43  \n",
       "6  Rua Bambina, 140 - Botafogo, Rio de Janeiro - ...  11/04/2022 18:43  \n",
       "7  Rua Bertha Lutz, 80 - Gávea, Rio de Janeiro - ...  11/04/2022 18:43  \n",
       "8  Rua Hilário de Gouveia, 102 - Copacabana, Rio ...  11/04/2022 18:43  \n",
       "9  Avenida Nossa Senhora de Copacabana, 1260 - Co...  11/04/2022 18:43  "
      ]
     },
     "execution_count": 61,
     "metadata": {},
     "output_type": "execute_result"
    }
   ],
   "source": [
    "#validar a carga através de um select na tblogDP\n",
    "#pd.read_sql(\"SELECT * FROM tbLogDP\",conexaoODS).head(10)"
   ]
  },
  {
   "cell_type": "code",
   "execution_count": 63,
   "metadata": {},
   "outputs": [
    {
     "data": {
      "text/html": [
       "<div>\n",
       "<style scoped>\n",
       "    .dataframe tbody tr th:only-of-type {\n",
       "        vertical-align: middle;\n",
       "    }\n",
       "\n",
       "    .dataframe tbody tr th {\n",
       "        vertical-align: top;\n",
       "    }\n",
       "\n",
       "    .dataframe thead th {\n",
       "        text-align: right;\n",
       "    }\n",
       "</style>\n",
       "<table border=\"1\" class=\"dataframe\">\n",
       "  <thead>\n",
       "    <tr style=\"text-align: right;\">\n",
       "      <th></th>\n",
       "      <th>codDP</th>\n",
       "      <th>nmResponsavel</th>\n",
       "      <th>dtCarga</th>\n",
       "    </tr>\n",
       "  </thead>\n",
       "  <tbody>\n",
       "    <tr>\n",
       "      <th>0</th>\n",
       "      <td>1</td>\n",
       "      <td>Delegado de Polícia José Luiz Silva Duarte</td>\n",
       "      <td>11/04/2022 18:43</td>\n",
       "    </tr>\n",
       "    <tr>\n",
       "      <th>1</th>\n",
       "      <td>4</td>\n",
       "      <td>Delegada de Polícia Patricia de Paiva Aguiar</td>\n",
       "      <td>11/04/2022 18:43</td>\n",
       "    </tr>\n",
       "    <tr>\n",
       "      <th>2</th>\n",
       "      <td>5</td>\n",
       "      <td>Delegado de Polícia Bruno Gilaberte Freitas</td>\n",
       "      <td>11/04/2022 18:43</td>\n",
       "    </tr>\n",
       "    <tr>\n",
       "      <th>3</th>\n",
       "      <td>6</td>\n",
       "      <td>Delegado de Polícia Fabio Luiz Da Silva Souza</td>\n",
       "      <td>11/04/2022 18:43</td>\n",
       "    </tr>\n",
       "    <tr>\n",
       "      <th>4</th>\n",
       "      <td>7</td>\n",
       "      <td>Delegado de Polícia Carlos Alberto Meirelles D...</td>\n",
       "      <td>11/04/2022 18:43</td>\n",
       "    </tr>\n",
       "    <tr>\n",
       "      <th>5</th>\n",
       "      <td>9</td>\n",
       "      <td>Delegada de Polícia Maria Aparecida Salgado Ma...</td>\n",
       "      <td>11/04/2022 18:43</td>\n",
       "    </tr>\n",
       "    <tr>\n",
       "      <th>6</th>\n",
       "      <td>10</td>\n",
       "      <td>Delegado de Polícia Alexandre Herdy Barros Silva</td>\n",
       "      <td>11/04/2022 18:43</td>\n",
       "    </tr>\n",
       "    <tr>\n",
       "      <th>7</th>\n",
       "      <td>11</td>\n",
       "      <td>Delegada de Polícia Flávia Goes Monteiro Romer...</td>\n",
       "      <td>11/04/2022 18:43</td>\n",
       "    </tr>\n",
       "    <tr>\n",
       "      <th>8</th>\n",
       "      <td>12</td>\n",
       "      <td>Delegada de Polícia Bianca Rodrigues Xavier Li...</td>\n",
       "      <td>11/04/2022 18:43</td>\n",
       "    </tr>\n",
       "    <tr>\n",
       "      <th>9</th>\n",
       "      <td>13</td>\n",
       "      <td>Delegado de Polícia Felipe Santoro da Silva</td>\n",
       "      <td>11/04/2022 18:43</td>\n",
       "    </tr>\n",
       "  </tbody>\n",
       "</table>\n",
       "</div>"
      ],
      "text/plain": [
       "   codDP                                      nmResponsavel           dtCarga\n",
       "0      1         Delegado de Polícia José Luiz Silva Duarte  11/04/2022 18:43\n",
       "1      4       Delegada de Polícia Patricia de Paiva Aguiar  11/04/2022 18:43\n",
       "2      5        Delegado de Polícia Bruno Gilaberte Freitas  11/04/2022 18:43\n",
       "3      6      Delegado de Polícia Fabio Luiz Da Silva Souza  11/04/2022 18:43\n",
       "4      7  Delegado de Polícia Carlos Alberto Meirelles D...  11/04/2022 18:43\n",
       "5      9  Delegada de Polícia Maria Aparecida Salgado Ma...  11/04/2022 18:43\n",
       "6     10   Delegado de Polícia Alexandre Herdy Barros Silva  11/04/2022 18:43\n",
       "7     11  Delegada de Polícia Flávia Goes Monteiro Romer...  11/04/2022 18:43\n",
       "8     12  Delegada de Polícia Bianca Rodrigues Xavier Li...  11/04/2022 18:43\n",
       "9     13        Delegado de Polícia Felipe Santoro da Silva  11/04/2022 18:43"
      ]
     },
     "execution_count": 63,
     "metadata": {},
     "output_type": "execute_result"
    }
   ],
   "source": [
    "#validar a carga através de um select na tblogRespDP\n",
    "#pd.read_sql(\"SELECT * FROM tbLogRespDP\",conexaoODS).head(10)"
   ]
  },
  {
   "cell_type": "markdown",
   "metadata": {},
   "source": [
    "### CRIANDO O DATAFRAME COM O SELECT DE CRIAÇÃO DA DIMENSÃO DP (dDP), NO DW"
   ]
  },
  {
   "cell_type": "code",
   "execution_count": 112,
   "metadata": {},
   "outputs": [],
   "source": [
    "#Definir a query de criação da dimensão dDP. Colocando os dados do select no dataframe dDB\n",
    "\n",
    "qry_dDP = '''\n",
    "    SELECT \n",
    "        codDP,\n",
    "        nmDP,\n",
    "        endereco,\n",
    "        nmResponsavel\n",
    "    FROM\n",
    "    (\n",
    "        SELECT\n",
    "            a.codDP,\n",
    "            a.nmDP,\n",
    "            a.endereco,\n",
    "            b.nmResponsavel,\n",
    "            max(a.dtCarga)\n",
    "        FROM tbLogDP a\n",
    "        JOIN tbLogRespDP b\n",
    "        on a.codDP = b.codDP\n",
    "        GROUP BY\n",
    "            a.codDP,\n",
    "            a.nmDP,\n",
    "            a.endereco,\n",
    "            b.nmResponsavel\n",
    "    ) a\n",
    "'''\n",
    "\n",
    "# max(a.dtCarga) usará sempre a data mais atual\n",
    "\n",
    "dDP = pd.read_sql(qry_dDP,conexaoODS)\n"
   ]
  },
  {
   "cell_type": "code",
   "execution_count": 113,
   "metadata": {},
   "outputs": [
    {
     "data": {
      "text/html": [
       "<div>\n",
       "<style scoped>\n",
       "    .dataframe tbody tr th:only-of-type {\n",
       "        vertical-align: middle;\n",
       "    }\n",
       "\n",
       "    .dataframe tbody tr th {\n",
       "        vertical-align: top;\n",
       "    }\n",
       "\n",
       "    .dataframe thead th {\n",
       "        text-align: right;\n",
       "    }\n",
       "</style>\n",
       "<table border=\"1\" class=\"dataframe\">\n",
       "  <thead>\n",
       "    <tr style=\"text-align: right;\">\n",
       "      <th></th>\n",
       "      <th>codDP</th>\n",
       "      <th>nmDP</th>\n",
       "      <th>endereco</th>\n",
       "      <th>nmResponsavel</th>\n",
       "    </tr>\n",
       "  </thead>\n",
       "  <tbody>\n",
       "    <tr>\n",
       "      <th>0</th>\n",
       "      <td>1</td>\n",
       "      <td>001ª DP - Praça Mauá</td>\n",
       "      <td>Atendendo provisoriamente na sede da 4ª DP - P...</td>\n",
       "      <td>Delegado de Polícia José Luiz Silva Duarte</td>\n",
       "    </tr>\n",
       "    <tr>\n",
       "      <th>1</th>\n",
       "      <td>4</td>\n",
       "      <td>004ª DP - Praça da República</td>\n",
       "      <td>Av. Presidente Vargas, 1100 - Centro, Rio de J...</td>\n",
       "      <td>Delegada de Polícia Patricia de Paiva Aguiar</td>\n",
       "    </tr>\n",
       "    <tr>\n",
       "      <th>2</th>\n",
       "      <td>5</td>\n",
       "      <td>005ª DP - Mem de Sá</td>\n",
       "      <td>Avenida Gomes Freire, 320 - Centro, Rio de Jan...</td>\n",
       "      <td>Delegado de Polícia Bruno Gilaberte Freitas</td>\n",
       "    </tr>\n",
       "    <tr>\n",
       "      <th>3</th>\n",
       "      <td>6</td>\n",
       "      <td>006ª DP - Cidade Nova</td>\n",
       "      <td>Rua Professor Clementino Fraga, 77 - Centro, R...</td>\n",
       "      <td>Delegado de Polícia Fabio Luiz Da Silva Souza</td>\n",
       "    </tr>\n",
       "    <tr>\n",
       "      <th>4</th>\n",
       "      <td>7</td>\n",
       "      <td>007ª DP - Santa Teresa</td>\n",
       "      <td>Rua Francisco de Castro, 5 - Santa Teresa, Rio...</td>\n",
       "      <td>Delegado de Polícia Carlos Alberto Meirelles D...</td>\n",
       "    </tr>\n",
       "    <tr>\n",
       "      <th>5</th>\n",
       "      <td>9</td>\n",
       "      <td>009ª DP - Catete</td>\n",
       "      <td>Rua Pedro Américo, 1 - Catete, Rio de Janeiro ...</td>\n",
       "      <td>Delegada de Polícia Maria Aparecida Salgado Ma...</td>\n",
       "    </tr>\n",
       "    <tr>\n",
       "      <th>6</th>\n",
       "      <td>10</td>\n",
       "      <td>010ª DP - Botafogo</td>\n",
       "      <td>Rua Bambina, 140 - Botafogo, Rio de Janeiro - ...</td>\n",
       "      <td>Delegado de Polícia Alexandre Herdy Barros Silva</td>\n",
       "    </tr>\n",
       "    <tr>\n",
       "      <th>7</th>\n",
       "      <td>11</td>\n",
       "      <td>011ª DP - Rocinha</td>\n",
       "      <td>Rua Bertha Lutz, 80 - Gávea, Rio de Janeiro - ...</td>\n",
       "      <td>Delegada de Polícia Flávia Goes Monteiro Romer...</td>\n",
       "    </tr>\n",
       "    <tr>\n",
       "      <th>8</th>\n",
       "      <td>12</td>\n",
       "      <td>012ª DP - Copacabana</td>\n",
       "      <td>Rua Hilário de Gouveia, 102 - Copacabana, Rio ...</td>\n",
       "      <td>Delegada de Polícia Bianca Rodrigues Xavier Li...</td>\n",
       "    </tr>\n",
       "    <tr>\n",
       "      <th>9</th>\n",
       "      <td>13</td>\n",
       "      <td>013ª DP - Ipanema</td>\n",
       "      <td>Avenida Nossa Senhora de Copacabana, 1260 - Co...</td>\n",
       "      <td>Delegado de Polícia Felipe Santoro da Silva</td>\n",
       "    </tr>\n",
       "  </tbody>\n",
       "</table>\n",
       "</div>"
      ],
      "text/plain": [
       "   codDP                          nmDP  \\\n",
       "0      1          001ª DP - Praça Mauá   \n",
       "1      4  004ª DP - Praça da República   \n",
       "2      5           005ª DP - Mem de Sá   \n",
       "3      6         006ª DP - Cidade Nova   \n",
       "4      7        007ª DP - Santa Teresa   \n",
       "5      9              009ª DP - Catete   \n",
       "6     10            010ª DP - Botafogo   \n",
       "7     11             011ª DP - Rocinha   \n",
       "8     12          012ª DP - Copacabana   \n",
       "9     13             013ª DP - Ipanema   \n",
       "\n",
       "                                            endereco  \\\n",
       "0  Atendendo provisoriamente na sede da 4ª DP - P...   \n",
       "1  Av. Presidente Vargas, 1100 - Centro, Rio de J...   \n",
       "2  Avenida Gomes Freire, 320 - Centro, Rio de Jan...   \n",
       "3  Rua Professor Clementino Fraga, 77 - Centro, R...   \n",
       "4  Rua Francisco de Castro, 5 - Santa Teresa, Rio...   \n",
       "5  Rua Pedro Américo, 1 - Catete, Rio de Janeiro ...   \n",
       "6  Rua Bambina, 140 - Botafogo, Rio de Janeiro - ...   \n",
       "7  Rua Bertha Lutz, 80 - Gávea, Rio de Janeiro - ...   \n",
       "8  Rua Hilário de Gouveia, 102 - Copacabana, Rio ...   \n",
       "9  Avenida Nossa Senhora de Copacabana, 1260 - Co...   \n",
       "\n",
       "                                       nmResponsavel  \n",
       "0         Delegado de Polícia José Luiz Silva Duarte  \n",
       "1       Delegada de Polícia Patricia de Paiva Aguiar  \n",
       "2        Delegado de Polícia Bruno Gilaberte Freitas  \n",
       "3      Delegado de Polícia Fabio Luiz Da Silva Souza  \n",
       "4  Delegado de Polícia Carlos Alberto Meirelles D...  \n",
       "5  Delegada de Polícia Maria Aparecida Salgado Ma...  \n",
       "6   Delegado de Polícia Alexandre Herdy Barros Silva  \n",
       "7  Delegada de Polícia Flávia Goes Monteiro Romer...  \n",
       "8  Delegada de Polícia Bianca Rodrigues Xavier Li...  \n",
       "9        Delegado de Polícia Felipe Santoro da Silva  "
      ]
     },
     "execution_count": 113,
     "metadata": {},
     "output_type": "execute_result"
    }
   ],
   "source": [
    "# dados da query realizada\n",
    "dDP.head(10)"
   ]
  },
  {
   "cell_type": "markdown",
   "metadata": {},
   "source": [
    "### FECHANDO A CONEXÃO COM O ODS"
   ]
  },
  {
   "cell_type": "code",
   "execution_count": 114,
   "metadata": {},
   "outputs": [],
   "source": [
    "#Confirmar a transação\n",
    "conexaoODS.commit()\n",
    "\n",
    "#Fechar a conexão com o pascoaODS\n",
    "conexaoODS.close()"
   ]
  },
  {
   "cell_type": "markdown",
   "metadata": {},
   "source": [
    "### CONECTANDO NO DW E INFORMANDO AO PYTHON QUE USAREI LINGUAGEM SQL"
   ]
  },
  {
   "cell_type": "code",
   "execution_count": 115,
   "metadata": {},
   "outputs": [],
   "source": [
    "#Conectar no BDODS\n",
    "conexaoDW = sql.connect(BDDW)\n",
    "\n",
    "#Definição de manipulação de dados em SQL\n",
    "SQL_DW = conexaoDW.cursor()"
   ]
  },
  {
   "cell_type": "markdown",
   "metadata": {},
   "source": [
    "### DELETANDO DADOS ANTIGOS E REINICIANDO AO AUTOINCREMENTAL DA CHAVE"
   ]
  },
  {
   "cell_type": "code",
   "execution_count": 120,
   "metadata": {},
   "outputs": [],
   "source": [
    "#Deletar os dados atuais\n",
    "SQL_DW.execute(\"DELETE FROM dDP\")\n",
    "\n",
    "#Reiniciando o autoincramental da chave\n",
    "SQL_DW.execute(\"UPDATE sqlite_sequence SET seq=0 WHERE name='dDP'\")\n",
    "\n",
    "#Confirmar a transação\n",
    "conexaoDW.commit()"
   ]
  },
  {
   "cell_type": "markdown",
   "metadata": {},
   "source": [
    "### INSERINDO DADOS NA DIMENSÃO DP (dDP), NO DW"
   ]
  },
  {
   "cell_type": "code",
   "execution_count": 121,
   "metadata": {},
   "outputs": [
    {
     "name": "stdout",
     "output_type": "stream",
     "text": [
      "Iniciando a inserção de dados na tabela dDP.\n",
      "-------------------------------------------------\n",
      "Carga finalizada! 137 registros inseridos na tbLogDP!\n"
     ]
    }
   ],
   "source": [
    "#Inserindo registros na tabela dDP\n",
    "print(\"Iniciando a inserção de dados na tabela dDP.\")\n",
    "print(\"-------------------------------------------------\")\n",
    "\n",
    "SQL_DW.executemany('''INSERT INTO dDP (codDP,nmDP,endereco,nmResponsavel) VALUES (?,?,?,?)''',dDP.values.tolist())\n",
    "\n",
    "#confirmar a transação\n",
    "conexaoDW.commit()\n",
    "\n",
    "#Exibir uma mensagem de conclusão de carga\n",
    "print(\"Carga finalizada!\",len(dDP), \"registros inseridos na tbLogDP!\")"
   ]
  },
  {
   "cell_type": "markdown",
   "metadata": {},
   "source": [
    "### VALIDANDO CARGA DOS DADOS DA DIMENSÃO DP (dDP)"
   ]
  },
  {
   "cell_type": "code",
   "execution_count": 79,
   "metadata": {},
   "outputs": [
    {
     "data": {
      "text/html": [
       "<div>\n",
       "<style scoped>\n",
       "    .dataframe tbody tr th:only-of-type {\n",
       "        vertical-align: middle;\n",
       "    }\n",
       "\n",
       "    .dataframe tbody tr th {\n",
       "        vertical-align: top;\n",
       "    }\n",
       "\n",
       "    .dataframe thead th {\n",
       "        text-align: right;\n",
       "    }\n",
       "</style>\n",
       "<table border=\"1\" class=\"dataframe\">\n",
       "  <thead>\n",
       "    <tr style=\"text-align: right;\">\n",
       "      <th></th>\n",
       "      <th>idDP</th>\n",
       "      <th>codDP</th>\n",
       "      <th>nmDP</th>\n",
       "      <th>endereco</th>\n",
       "      <th>nmResponsavel</th>\n",
       "    </tr>\n",
       "  </thead>\n",
       "  <tbody>\n",
       "    <tr>\n",
       "      <th>0</th>\n",
       "      <td>1</td>\n",
       "      <td>1</td>\n",
       "      <td>001ª DP - Praça Mauá</td>\n",
       "      <td>Atendendo provisoriamente na sede da 4ª DP - P...</td>\n",
       "      <td>Delegado de Polícia José Luiz Silva Duarte</td>\n",
       "    </tr>\n",
       "    <tr>\n",
       "      <th>1</th>\n",
       "      <td>2</td>\n",
       "      <td>4</td>\n",
       "      <td>004ª DP - Praça da República</td>\n",
       "      <td>Av. Presidente Vargas, 1100 - Centro, Rio de J...</td>\n",
       "      <td>Delegada de Polícia Patricia de Paiva Aguiar</td>\n",
       "    </tr>\n",
       "    <tr>\n",
       "      <th>2</th>\n",
       "      <td>3</td>\n",
       "      <td>5</td>\n",
       "      <td>005ª DP - Mem de Sá</td>\n",
       "      <td>Avenida Gomes Freire, 320 - Centro, Rio de Jan...</td>\n",
       "      <td>Delegado de Polícia Bruno Gilaberte Freitas</td>\n",
       "    </tr>\n",
       "    <tr>\n",
       "      <th>3</th>\n",
       "      <td>4</td>\n",
       "      <td>6</td>\n",
       "      <td>006ª DP - Cidade Nova</td>\n",
       "      <td>Rua Professor Clementino Fraga, 77 - Centro, R...</td>\n",
       "      <td>Delegado de Polícia Fabio Luiz Da Silva Souza</td>\n",
       "    </tr>\n",
       "    <tr>\n",
       "      <th>4</th>\n",
       "      <td>5</td>\n",
       "      <td>7</td>\n",
       "      <td>007ª DP - Santa Teresa</td>\n",
       "      <td>Rua Francisco de Castro, 5 - Santa Teresa, Rio...</td>\n",
       "      <td>Delegado de Polícia Carlos Alberto Meirelles D...</td>\n",
       "    </tr>\n",
       "    <tr>\n",
       "      <th>5</th>\n",
       "      <td>6</td>\n",
       "      <td>9</td>\n",
       "      <td>009ª DP - Catete</td>\n",
       "      <td>Rua Pedro Américo, 1 - Catete, Rio de Janeiro ...</td>\n",
       "      <td>Delegada de Polícia Maria Aparecida Salgado Ma...</td>\n",
       "    </tr>\n",
       "    <tr>\n",
       "      <th>6</th>\n",
       "      <td>7</td>\n",
       "      <td>10</td>\n",
       "      <td>010ª DP - Botafogo</td>\n",
       "      <td>Rua Bambina, 140 - Botafogo, Rio de Janeiro - ...</td>\n",
       "      <td>Delegado de Polícia Alexandre Herdy Barros Silva</td>\n",
       "    </tr>\n",
       "    <tr>\n",
       "      <th>7</th>\n",
       "      <td>8</td>\n",
       "      <td>11</td>\n",
       "      <td>011ª DP - Rocinha</td>\n",
       "      <td>Rua Bertha Lutz, 80 - Gávea, Rio de Janeiro - ...</td>\n",
       "      <td>Delegada de Polícia Flávia Goes Monteiro Romer...</td>\n",
       "    </tr>\n",
       "    <tr>\n",
       "      <th>8</th>\n",
       "      <td>9</td>\n",
       "      <td>12</td>\n",
       "      <td>012ª DP - Copacabana</td>\n",
       "      <td>Rua Hilário de Gouveia, 102 - Copacabana, Rio ...</td>\n",
       "      <td>Delegada de Polícia Bianca Rodrigues Xavier Li...</td>\n",
       "    </tr>\n",
       "    <tr>\n",
       "      <th>9</th>\n",
       "      <td>10</td>\n",
       "      <td>13</td>\n",
       "      <td>013ª DP - Ipanema</td>\n",
       "      <td>Avenida Nossa Senhora de Copacabana, 1260 - Co...</td>\n",
       "      <td>Delegado de Polícia Felipe Santoro da Silva</td>\n",
       "    </tr>\n",
       "  </tbody>\n",
       "</table>\n",
       "</div>"
      ],
      "text/plain": [
       "   idDP  codDP                          nmDP  \\\n",
       "0     1      1          001ª DP - Praça Mauá   \n",
       "1     2      4  004ª DP - Praça da República   \n",
       "2     3      5           005ª DP - Mem de Sá   \n",
       "3     4      6         006ª DP - Cidade Nova   \n",
       "4     5      7        007ª DP - Santa Teresa   \n",
       "5     6      9              009ª DP - Catete   \n",
       "6     7     10            010ª DP - Botafogo   \n",
       "7     8     11             011ª DP - Rocinha   \n",
       "8     9     12          012ª DP - Copacabana   \n",
       "9    10     13             013ª DP - Ipanema   \n",
       "\n",
       "                                            endereco  \\\n",
       "0  Atendendo provisoriamente na sede da 4ª DP - P...   \n",
       "1  Av. Presidente Vargas, 1100 - Centro, Rio de J...   \n",
       "2  Avenida Gomes Freire, 320 - Centro, Rio de Jan...   \n",
       "3  Rua Professor Clementino Fraga, 77 - Centro, R...   \n",
       "4  Rua Francisco de Castro, 5 - Santa Teresa, Rio...   \n",
       "5  Rua Pedro Américo, 1 - Catete, Rio de Janeiro ...   \n",
       "6  Rua Bambina, 140 - Botafogo, Rio de Janeiro - ...   \n",
       "7  Rua Bertha Lutz, 80 - Gávea, Rio de Janeiro - ...   \n",
       "8  Rua Hilário de Gouveia, 102 - Copacabana, Rio ...   \n",
       "9  Avenida Nossa Senhora de Copacabana, 1260 - Co...   \n",
       "\n",
       "                                       nmResponsavel  \n",
       "0         Delegado de Polícia José Luiz Silva Duarte  \n",
       "1       Delegada de Polícia Patricia de Paiva Aguiar  \n",
       "2        Delegado de Polícia Bruno Gilaberte Freitas  \n",
       "3      Delegado de Polícia Fabio Luiz Da Silva Souza  \n",
       "4  Delegado de Polícia Carlos Alberto Meirelles D...  \n",
       "5  Delegada de Polícia Maria Aparecida Salgado Ma...  \n",
       "6   Delegado de Polícia Alexandre Herdy Barros Silva  \n",
       "7  Delegada de Polícia Flávia Goes Monteiro Romer...  \n",
       "8  Delegada de Polícia Bianca Rodrigues Xavier Li...  \n",
       "9        Delegado de Polícia Felipe Santoro da Silva  "
      ]
     },
     "execution_count": 79,
     "metadata": {},
     "output_type": "execute_result"
    }
   ],
   "source": [
    "#validar a carga através de um select na tblogDP\n",
    "#pd.read_sql(\"SELECT * FROM dDP\",conexaoDW).head(10)"
   ]
  },
  {
   "cell_type": "markdown",
   "metadata": {},
   "source": [
    "### FECHANDO A CONEXÃO COM O DW"
   ]
  },
  {
   "cell_type": "code",
   "execution_count": 80,
   "metadata": {},
   "outputs": [],
   "source": [
    "#Confirmar a transação\n",
    "conexaoDW.commit()\n",
    "\n",
    "#Fechar a conexão\n",
    "conexaoDW.close()"
   ]
  },
  {
   "cell_type": "code",
   "execution_count": null,
   "metadata": {},
   "outputs": [],
   "source": []
  }
 ],
 "metadata": {
  "kernelspec": {
   "display_name": "Python 3",
   "language": "python",
   "name": "python3"
  },
  "language_info": {
   "codemirror_mode": {
    "name": "ipython",
    "version": 3
   },
   "file_extension": ".py",
   "mimetype": "text/x-python",
   "name": "python",
   "nbconvert_exporter": "python",
   "pygments_lexer": "ipython3",
   "version": "3.8.5"
  }
 },
 "nbformat": 4,
 "nbformat_minor": 4
}
